{
 "cells": [
  {
   "cell_type": "markdown",
   "metadata": {
    "id": "JU1ThAa04KMB"
   },
   "source": [
    "# Week 1 - Measuring Meaning & Sampling\n",
    "This week, we begin by \"begging, borrowing and stealing\" text from several\n",
    "contexts of human communication (e.g., PDFs, HTML, Word) and preparing it for\n",
    "machines to \"read\" and analyze. This notebook outlines scraping text from the\n",
    "web, PDF and Word documents. Then we detail \"spidering\" or walking\n",
    "through hyperlinks to build samples of online content, and using APIs,\n",
    "Application Programming Interfaces, provided by webservices to access their\n",
    "content. Along the way, we will use regular expressions, outlined in the\n",
    "reading, to remove unwanted formatting and ornamentation. Finally, we discuss\n",
    "various text encodings, filtering and data structures in which text can be\n",
    "placed for analysis. Next, we ask you to begin building a corpus for preliminary analysis and articulate what your sample represents in context of your final project.\n",
    "\n",
    "If you are new to Google Colab, please take a look at [this brief introduction to the platform](https://colab.research.google.com/drive/1fV_2ZrdF-Vve8L7ZZAjanPS6tCh_HGnN). For each assignment on Colab, you should first click _File_ -> _Save a copy in Drive_ to create your own .ipynb file to submit. You will also need to run a cell like this if you are storing your data on Google Drive:"
   ]
  },
  {
   "cell_type": "code",
   "execution_count": null,
   "metadata": {
    "id": "cG07PPAr5s2y"
   },
   "outputs": [],
   "source": [
    "from google.colab import drive\n",
    "drive.mount(\"/content/drive\")"
   ]
  },
  {
   "cell_type": "markdown",
   "metadata": {
    "id": "wsiychv-Omaw"
   },
   "source": [
    "We made a python package just for this course: lucem_illud. If you haven't installed this package, you should run the following code first. You don't need to install the package later; all you need to do is just to import the package with: import lucem_illud. For your final projects, you may find it useful to [read the lucem_illud source code](https://github.com/UChicago-Computational-Content-Analysis/lucem_illud/tree/main/lucem_illud) and modify your code for your own interests."
   ]
  },
  {
   "cell_type": "code",
   "execution_count": null,
   "metadata": {
    "id": "E5HYvEJeOmax"
   },
   "outputs": [],
   "source": [
    "!pip install git+git://github.com/UChicago-Computational-Content-Analysis/lucem_illud.git\n",
    "#installing lucem_illud package\n",
    "#lucem_illud is a Latin phrase meaning \"that light\", the insight we can discover in text data!\n",
    "#If you get an error like \"Access is denied\", try running the `pip` command on the command line as an administrator."
   ]
  },
  {
   "cell_type": "markdown",
   "metadata": {
    "id": "gml7JVVdOmaz"
   },
   "source": [
    "If you're not familiar with jupyter notebook, you may wonder what the exclamation mark(!) at the beginning of the command does (or even what pip means). The exclamation mark enables us to execute Terminal commands in the notebook cells (e.g., run `!ls` to display files in the current folder).\n",
    "\n",
    "For this notebook we will be using the following packages:"
   ]
  },
  {
   "cell_type": "code",
   "execution_count": 1,
   "metadata": {
    "id": "O8EOGoXbOma0"
   },
   "outputs": [],
   "source": [
    "#Special module written for this class\n",
    "#This provides access to data and to helper functions from previous weeks\n",
    "import lucem_illud #pip install git+git://github.com/UChicago-Computational-Content-Analysis/lucem_illud.git\n",
    "\n",
    "#All these packages need to be installed from pip\n",
    "import requests #for http requests\n",
    "import bs4 #called `beautifulsoup4`, an html parser\n",
    "import pandas #gives us DataFrames\n",
    "import docx #reading MS doc files, install as `python-docx`\n",
    "\n",
    "#Stuff for pdfs\n",
    "#Install as `pdfminer2`\n",
    "import pdfminer.pdfinterp\n",
    "import pdfminer.converter\n",
    "import pdfminer.layout\n",
    "import pdfminer.pdfpage\n",
    "\n",
    "#These come with Python\n",
    "import re #for regexs\n",
    "import urllib.parse #For joining urls\n",
    "import io #for making http requests look like files\n",
    "import json #For Tumblr API responses\n",
    "import os.path #For checking if files exist\n",
    "import os #For making directories"
   ]
  },
  {
   "cell_type": "markdown",
   "metadata": {
    "id": "1FBeOb62Oma1"
   },
   "source": [
    "We will also be working on the following files/urls"
   ]
  },
  {
   "cell_type": "code",
   "execution_count": 2,
   "metadata": {
    "id": "FCg_QdR7Oma2"
   },
   "outputs": [],
   "source": [
    "wikipedia_base_url = 'https://en.wikipedia.org'\n",
    "wikipedia_content_analysis = 'https://en.wikipedia.org/wiki/Content_analysis'\n",
    "content_analysis_save = 'wikipedia_content_analysis.html'\n",
    "example_text_file = 'sometextfile.txt'\n",
    "information_extraction_pdf = 'https://github.com/Computational-Content-Analysis-2018/Data-Files/raw/master/1-intro/Content%20Analysis%2018.pdf'\n",
    "example_docx = 'https://github.com/Computational-Content-Analysis-2018/Data-Files/raw/master/1-intro/macs6000_connecting_to_midway.docx'\n",
    "example_docx_save = 'example.docx'"
   ]
  },
  {
   "cell_type": "markdown",
   "metadata": {
    "id": "bZM9Pw3lOma3"
   },
   "source": [
    "# Scraping\n",
    "\n",
    "Before we can start analyzing content we need to obtain it. Sometimes it will be\n",
    "provided to us from a pre-curated text archive, but sometimes we will need to\n",
    "download it. As a starting example we will attempt to download the wikipedia\n",
    "page on content analysis. The page is located at [https://en.wikipedia.org/wiki/Content_analysis](https://en.wikipedia.org/wiki/Content_analysis) so lets start\n",
    "with that.\n",
    "\n",
    "We can do this by making an HTTP GET request to that url, a GET request is\n",
    "simply a request to the server to provide the contents given by some url. The\n",
    "other request we will be using in this class is called a POST request and\n",
    "requests the server to take some content we provide. While the Python standard\n",
    "library does have the ability do make GET requests we will be using the\n",
    "[_requests_](http://docs.python-requests.org/en/master/) package as it is _'the\n",
    "only Non-GMO HTTP library for Python'_...also it provides a nicer interface."
   ]
  },
  {
   "cell_type": "code",
   "execution_count": 3,
   "metadata": {
    "id": "hhzQ0oNBOma4"
   },
   "outputs": [
    {
     "data": {
      "text/plain": [
       "<Response [200]>"
      ]
     },
     "execution_count": 3,
     "metadata": {},
     "output_type": "execute_result"
    }
   ],
   "source": [
    "#wikipedia_content_analysis = 'https://en.wikipedia.org/wiki/Content_analysis'\n",
    "requests.get(wikipedia_content_analysis)"
   ]
  },
  {
   "cell_type": "markdown",
   "metadata": {
    "id": "OBLNFuYqOma5"
   },
   "source": [
    "`'Response [200]'` means the server responded with what we asked for. If you get\n",
    "another number (e.g. 404) it likely means there was some kind of error, these\n",
    "codes are called HTTP response codes and a list of them can be found\n",
    "[here](https://en.wikipedia.org/wiki/List_of_HTTP_status_codes). The response\n",
    "object contains all the data the server sent including the website's contents\n",
    "and the HTTP header. We are interested in the contents which we can access with\n",
    "the `.text` attribute."
   ]
  },
  {
   "cell_type": "code",
   "execution_count": 4,
   "metadata": {
    "id": "0MX6yy-GOma6"
   },
   "outputs": [
    {
     "name": "stdout",
     "output_type": "stream",
     "text": [
      "<!DOCTYPE html>\n",
      "<html class=\"client-nojs\" lang=\"en\" dir=\"ltr\">\n",
      "<head>\n",
      "<meta charset=\"UTF-8\"/>\n",
      "<title>Content analysis - Wikipedia</title>\n",
      "<script>document.documentElement.className=\"client-js\";RLCONF={\"wgBreakFrames\":false,\"wgSeparatorTransformTable\":[\"\",\"\"],\"wgDigitTransformTable\":[\"\",\"\"],\"wgDefaultDateFormat\":\"dmy\",\"wgMonthNames\":[\"\",\"January\",\"February\",\"March\",\"April\",\"May\",\"June\",\"July\",\"August\",\"September\",\"October\",\"November\",\"December\"],\"wgRequestId\":\"206f9d19-1d4f-482e-878c-6f6d1eb96195\",\"wgCSPNonce\":false,\"wgCanonicalNamespace\":\"\",\"wgCanonicalSpecialPageName\":false,\"wgNamespaceNumber\":0,\"wgPageName\":\"Content_analysis\",\"wgTitle\":\"Content analysis\",\"wgCurRevisionId\":1065940520,\"wgRevisionId\":1065940520,\"wgArticleId\":473317,\"wgIsArticle\":true,\"wgIsRedirect\":false,\"wgAction\":\"view\",\"wgUserName\":null,\"wgUserGroups\":[\"*\"],\"wgCategories\":[\"Articles with short description\",\"Short description matches Wikidata\",\"Articles prone to spam from October 2017\",\"Articles with BNE identifiers\",\n"
     ]
    }
   ],
   "source": [
    "wikiContentRequest = requests.get(wikipedia_content_analysis)\n",
    "print(wikiContentRequest.text[:1000])"
   ]
  },
  {
   "cell_type": "markdown",
   "metadata": {
    "id": "v476yylWOma6"
   },
   "source": [
    "This is not what we were looking for, because it is the start of the HTML that\n",
    "makes up the website. This is HTML and is meant to be read by computers. Luckily\n",
    "we have a computer to parse it for us. To do the parsing we will use [_Beautiful\n",
    "Soup_](https://www.crummy.com/software/BeautifulSoup/) which is a better parser\n",
    "than the one in the standard library."
   ]
  },
  {
   "cell_type": "markdown",
   "metadata": {
    "id": "sKsCntAsOma7"
   },
   "source": [
    "But before we proceed to Beautiful Soup, a digression about Python syntax, especially about objects and functions.\n",
    "For those who are not familiar with the syntax of python (or, if you're familiar with R programming), you might wonder what requests.get or wikiContentRequest.text mean. To understand this, you need to first understand what objects are. You may have heard that Python is an object oriented programming language (unlike the procedure oriented programming language, an example of which is R). Object is a set of variables (or, data) and functions into which you pass your data. So, in object oriented programming languages, like python, variables and functions are bunleded into objects.\n",
    "\n",
    "For example, let's look at wikiContentRequest. We use dir() function, which returns the list of attributes and functions of objects."
   ]
  },
  {
   "cell_type": "code",
   "execution_count": 5,
   "metadata": {
    "id": "bFWJZHqhOma7"
   },
   "outputs": [
    {
     "data": {
      "text/plain": [
       "['__attrs__',\n",
       " '__bool__',\n",
       " '__class__',\n",
       " '__delattr__',\n",
       " '__dict__',\n",
       " '__dir__',\n",
       " '__doc__',\n",
       " '__enter__',\n",
       " '__eq__',\n",
       " '__exit__',\n",
       " '__format__',\n",
       " '__ge__',\n",
       " '__getattribute__',\n",
       " '__getstate__',\n",
       " '__gt__',\n",
       " '__hash__',\n",
       " '__init__',\n",
       " '__init_subclass__',\n",
       " '__iter__',\n",
       " '__le__',\n",
       " '__lt__',\n",
       " '__module__',\n",
       " '__ne__',\n",
       " '__new__',\n",
       " '__nonzero__',\n",
       " '__reduce__',\n",
       " '__reduce_ex__',\n",
       " '__repr__',\n",
       " '__setattr__',\n",
       " '__setstate__',\n",
       " '__sizeof__',\n",
       " '__str__',\n",
       " '__subclasshook__',\n",
       " '__weakref__',\n",
       " '_content',\n",
       " '_content_consumed',\n",
       " '_next',\n",
       " 'apparent_encoding',\n",
       " 'close',\n",
       " 'connection',\n",
       " 'content',\n",
       " 'cookies',\n",
       " 'elapsed',\n",
       " 'encoding',\n",
       " 'headers',\n",
       " 'history',\n",
       " 'is_permanent_redirect',\n",
       " 'is_redirect',\n",
       " 'iter_content',\n",
       " 'iter_lines',\n",
       " 'json',\n",
       " 'links',\n",
       " 'next',\n",
       " 'ok',\n",
       " 'raise_for_status',\n",
       " 'raw',\n",
       " 'reason',\n",
       " 'request',\n",
       " 'status_code',\n",
       " 'text',\n",
       " 'url']"
      ]
     },
     "execution_count": 5,
     "metadata": {},
     "output_type": "execute_result"
    }
   ],
   "source": [
    " dir(wikiContentRequest)"
   ]
  },
  {
   "cell_type": "markdown",
   "metadata": {
    "id": "N2i8w-JwOma8"
   },
   "source": [
    "There's 'text' here. We used 'wikiContentRequest.text' to access 'text.' In other words, we use .(dot notation) to access functions from objects. wikiContentRequest has a set of functions, as shown above, and we used 'wikiContentRequest.text' to access one of them. By the way, dot notations do not necessarily refer to functions--it refers to anything that the entity contains. \n",
    "\n"
   ]
  },
  {
   "cell_type": "markdown",
   "metadata": {
    "id": "3heEYqz3Oma8"
   },
   "source": [
    "Moving on to the next step: BeautifulSoup, a Python library which extracts data from HTML and XML, and transforms HTML files into Python objects."
   ]
  },
  {
   "cell_type": "code",
   "execution_count": 6,
   "metadata": {
    "id": "q9aPjhBQOma8"
   },
   "outputs": [
    {
     "name": "stdout",
     "output_type": "stream",
     "text": [
      "\n",
      "\n",
      "\n",
      "\n",
      "Content analysis - Wikipedia\n",
      "document.documentElement.className=\"client-js\";RLCONF={\"wgBreakFrames\":false,\"wgSeparatorTransformTable\":[\"\",\"\"],\"wgDigitTransformTable\":[\"\",\"\"],\"wgDefaultDateFormat\":\n"
     ]
    }
   ],
   "source": [
    "wikiContentSoup = bs4.BeautifulSoup(wikiContentRequest.text, 'html.parser')\n",
    "print(wikiContentSoup.text[:200])"
   ]
  },
  {
   "cell_type": "markdown",
   "metadata": {
    "id": "x3nSYukpOma9"
   },
   "source": [
    "This is better but there's still random whitespace and we have more than just\n",
    "the text of the article. This is because what we requested is the whole webpage,\n",
    "not just the text for the article.\n",
    "\n",
    "We want to extract only the text we care about, and in order to do this we will\n",
    "need to inspect the html. One way to do this is simply to go to the website with\n",
    "a browser and use its inspection or view source tool. If javascript or other\n",
    "dynamic loading occurs on the page, however, it is likely that what Python\n",
    "receives is not what you will see, so we will need to inspect what Python\n",
    "receives. To do this we can save the html `requests` obtained."
   ]
  },
  {
   "cell_type": "code",
   "execution_count": 7,
   "metadata": {
    "id": "ZcLAorw7Oma9"
   },
   "outputs": [],
   "source": [
    "#content_analysis_save = 'wikipedia_content_analysis.html'\n",
    "\n",
    "with open(content_analysis_save, mode='w', encoding='utf-8') as f:\n",
    "    f.write(wikiContentRequest.text)"
   ]
  },
  {
   "cell_type": "markdown",
   "metadata": {
    "id": "I7zi62goOma9"
   },
   "source": [
    "open() is a function which literally opens and returns the file. This function has multiple modes, and, here, we used mode as 'w', which means: open a file for writing. And then, we use 'write' function to write on the empty file (content_analysis_save) that we created using open(content_analysis_save, mode='w', encoding='utf-8').} What did we write on this file? The text we got from wikiContentRequest.text"
   ]
  },
  {
   "cell_type": "markdown",
   "metadata": {
    "id": "z9-kcKydOma-"
   },
   "source": [
    "Now let's open the file (`wikipedia_content_analysis.html`) we just created with\n",
    "a web browser. It should look sort of like the original but without the images\n",
    "and formatting.\n",
    "\n",
    "As there is very little standardization on structuring webpages, figuring out\n",
    "how best to extract what you want is an art. Looking at this page it looks like\n",
    "all the main textual content is inside `<p>`(paragraph) tags within the `<body>`\n",
    "tag. "
   ]
  },
  {
   "cell_type": "code",
   "execution_count": 8,
   "metadata": {
    "id": "UTiDo5jGOma-",
    "scrolled": true
   },
   "outputs": [
    {
     "name": "stdout",
     "output_type": "stream",
     "text": [
      "South Asia \n",
      "\n",
      "Middle East\n",
      "\n",
      "Europe\n",
      "\n"
     ]
    }
   ],
   "source": [
    "contentPTags = wikiContentSoup.body.findAll('p')\n",
    "for pTag in contentPTags[:3]:\n",
    "    print(pTag.text)"
   ]
  },
  {
   "cell_type": "markdown",
   "metadata": {
    "id": "K-HEFlXROma-"
   },
   "source": [
    "Another excursion for those who are not familiar with programming: for loop. For loop is used to iterate over a sequence. \"ContentPTags\" contains multiple paragraphs, each of which starts and ends with `<p>`. What the \"for pTag in contentPtags[:3]\" does here is: find each paragraph in contentPTags, which, here, we limited to the first three using contentPtags[:3], and then print each paragraph. So, we have three paragraphs. By the way, you can insert `<p>` in juputer notebook!"
   ]
  },
  {
   "cell_type": "markdown",
   "metadata": {
    "id": "P3WbGS2aOma_"
   },
   "source": [
    "We now have all the text from the page, split up by paragraph. If we wanted to\n",
    "get the section headers or references as well it would require a bit more work,\n",
    "but is doable.\n",
    "\n",
    "There is one more thing we might want to do before sending this text to be\n",
    "processed, remove the references indicators (`[2]`, `[3]` , etc). To do this we\n",
    "can use a short regular expression (regex)."
   ]
  },
  {
   "cell_type": "code",
   "execution_count": 28,
   "metadata": {
    "id": "W1Km-YmsOma_",
    "scrolled": true
   },
   "outputs": [
    {
     "name": "stdout",
     "output_type": "stream",
     "text": [
      "                                       paragraph-text\n",
      "0                                       South Asia \\n\n",
      "1                                       Middle East\\n\n",
      "2                                            Europe\\n\n",
      "3                                     North America\\n\n",
      "4   Content analysis is the study of documents and...\n",
      "5   Practices and philosophies of content analysis...\n",
      "6   Computers are increasingly used in content ana...\n",
      "7   Content analysis is best understood as a broad...\n",
      "8   The simplest and most objective form of conten...\n",
      "9   A further step in analysis is the distinction ...\n",
      "10  Quantitative content analysis highlights frequ...\n",
      "11  Siegfried Kracauer provides a critique of quan...\n",
      "12  With the rise of common computing facilities l...\n",
      "13  By having contents of communication available ...\n",
      "14  Computer-assisted analysis can help with large...\n",
      "15  Robert Weber notes: \"To make valid inferences ...\n",
      "16  There are five types of texts in content analy...\n",
      "17  Content analysis is research using the categor...\n",
      "18  Over the years, content analysis has been appl...\n",
      "19  In recent times, particularly with the advent ...\n",
      "20  Quantitative content analysis has enjoyed a re...\n",
      "21  Content analysis can also be described as stud...\n",
      "22  Manifest content is readily understandable at ...\n",
      "23  Holsti groups fifteen uses of content analysis...\n",
      "24  He also places these uses into the context of ...\n",
      "25  The following table shows fifteen uses of cont...\n",
      "26  As a counterpoint, there are limits to the sco...\n",
      "27  The process of the initial coding scheme or ap...\n",
      "28  With either approach above, immersing oneself ...\n",
      "29                                                 \\n\n"
     ]
    }
   ],
   "source": [
    "contentParagraphs = []\n",
    "for pTag in contentPTags:\n",
    "    #strings starting with r are raw so their \\'s are not modifier characters\n",
    "    #If we didn't start with r the string would be: '\\\\[\\\\d+\\\\]'\n",
    "    contentParagraphs.append(re.sub(r'\\[\\d+\\]', '', pTag.text))\n",
    "\n",
    "#convert to a DataFrame\n",
    "contentParagraphsDF = pandas.DataFrame({'paragraph-text' : contentParagraphs})\n",
    "print(contentParagraphsDF)"
   ]
  },
  {
   "cell_type": "markdown",
   "metadata": {
    "id": "32iXyFviOma_"
   },
   "source": [
    "Since we learned how to do for loop, you might get what we did here: using contentParagraphs = [], we made an empty list; and then, for each paragraph in contentPTags, we substituted every [\\d+\\] with '', i.e., removed every [\\d+\\], and then appended each paragraph (now without [\\d+\\]) to the empty list. As we can see, we have a dataframe, each row of which is each paragraph of contentPTags, without reference indicators. \n",
    "\n",
    "By the way, what does [\\d+\\] mean? If you are not familiar with regex, it is a way of specifying searches in text.\n",
    "A regex engine takes in the search pattern, in the above case `'\\[\\d+\\]'` and\n",
    "some string, the paragraph texts. Then it reads the input string one character\n",
    "at a time checking if it matches the search. Here the regex `'\\d'` matches\n",
    "number characters (while `'\\['` and `'\\]'` capture the braces on either side)."
   ]
  },
  {
   "cell_type": "markdown",
   "metadata": {
    "id": "Ta624Xp-Oma_"
   },
   "source": [
    "Now we have a `DataFrame` containing all relevant text from the page ready to be processed"
   ]
  },
  {
   "cell_type": "code",
   "execution_count": 10,
   "metadata": {
    "id": "aMRe7UEvOma_"
   },
   "outputs": [
    {
     "data": {
      "text/plain": [
       "<re.Match object; span=(36, 37), match='2'>"
      ]
     },
     "execution_count": 10,
     "metadata": {},
     "output_type": "execute_result"
    }
   ],
   "source": [
    "findNumber = r'\\d'\n",
    "regexResults = re.search(findNumber, 'not a number, not a number, numbers 2134567890, not a number')\n",
    "regexResults"
   ]
  },
  {
   "cell_type": "markdown",
   "metadata": {
    "id": "70nwprj2OmbA"
   },
   "source": [
    "In Python the regex package (`re`) usually returns `Match` objects (you can have\n",
    "multiple pattern hits in a a single `Match`), to get the string that matched our\n",
    "pattern we can use the `.group()` method, and as we want the first one we will\n",
    "ask for the 0'th group."
   ]
  },
  {
   "cell_type": "code",
   "execution_count": 11,
   "metadata": {
    "id": "YPz34LJiOmbA"
   },
   "outputs": [
    {
     "name": "stdout",
     "output_type": "stream",
     "text": [
      "2\n"
     ]
    }
   ],
   "source": [
    "print(regexResults.group(0))"
   ]
  },
  {
   "cell_type": "markdown",
   "metadata": {
    "id": "xu-YZGe4OmbA"
   },
   "source": [
    "That gives us the first number, if we wanted the whole block of numbers we can\n",
    "add a wildcard `'+'` which requests 1 or more instances of the preceding\n",
    "character."
   ]
  },
  {
   "cell_type": "code",
   "execution_count": 12,
   "metadata": {
    "id": "stERg5HHOmbA"
   },
   "outputs": [
    {
     "name": "stdout",
     "output_type": "stream",
     "text": [
      "2134567890\n"
     ]
    }
   ],
   "source": [
    "findNumbers = r'\\d+'\n",
    "regexResults = re.search(findNumbers, 'not a number, not a number, numbers 2134567890, not a number')\n",
    "print(regexResults.group(0))"
   ]
  },
  {
   "cell_type": "markdown",
   "metadata": {
    "id": "DczZWZWeOmbB"
   },
   "source": [
    "Now we have the whole block of numbers, there are a huge number of special\n",
    "characters in regex, for the full description of Python's implementation look at\n",
    "the [re docs](https://docs.python.org/3/library/re.html) there is also a short\n",
    "[tutorial](https://docs.python.org/3/howto/regex.html#regex-howto)."
   ]
  },
  {
   "cell_type": "markdown",
   "metadata": {
    "id": "vVTLl6J-OmbB"
   },
   "source": [
    "# <font color=\"red\">Exercise 1</font>\n",
    "<font color=\"red\">Construct cells immediately below this that describe and download webcontent relating to your anticipated final project. Use beautiful soup and at least five regular expressions to extract relevant, nontrivial *chunks* of that content (e.g., cleaned sentences, paragraphs, etc.) to a pandas `Dataframe`.</font>"
   ]
  },
  {
   "cell_type": "markdown",
   "metadata": {},
   "source": [
    "I plan to analyze how US media's news articles text sentiment differs when reporting foreign news and domestic news. Here I download a news article about China's politics."
   ]
  },
  {
   "cell_type": "code",
   "execution_count": 407,
   "metadata": {},
   "outputs": [],
   "source": [
    "cnn_content_analysis = 'https://www.cnn.com/2022/01/18/economy/china-xi-davos-warning-interest-rate-intl-hnk/index.html'"
   ]
  },
  {
   "cell_type": "code",
   "execution_count": 408,
   "metadata": {},
   "outputs": [],
   "source": [
    "cnnContentRequest = requests.get(cnn_content_analysis)\n",
    "cnnContentSoup = bs4.BeautifulSoup(cnnContentRequest.text, 'html.parser')"
   ]
  },
  {
   "cell_type": "code",
   "execution_count": 409,
   "metadata": {},
   "outputs": [],
   "source": [
    "with open('cnn_content_analysis.html', mode='w', encoding='utf-8') as f:\n",
    "    f.write(cnnContentRequest.text)"
   ]
  },
  {
   "cell_type": "markdown",
   "metadata": {},
   "source": [
    "I found that the body paragraphs are embedded in *div* with *class* = *zn-body_paragraph*."
   ]
  },
  {
   "cell_type": "code",
   "execution_count": 410,
   "metadata": {
    "id": "W1Km-YmsOma_",
    "scrolled": true
   },
   "outputs": [
    {
     "data": {
      "text/html": [
       "<div>\n",
       "<style scoped>\n",
       "    .dataframe tbody tr th:only-of-type {\n",
       "        vertical-align: middle;\n",
       "    }\n",
       "\n",
       "    .dataframe tbody tr th {\n",
       "        vertical-align: top;\n",
       "    }\n",
       "\n",
       "    .dataframe thead th {\n",
       "        text-align: right;\n",
       "    }\n",
       "</style>\n",
       "<table border=\"1\" class=\"dataframe\">\n",
       "  <thead>\n",
       "    <tr style=\"text-align: right;\">\n",
       "      <th></th>\n",
       "      <th>paragraph-text</th>\n",
       "    </tr>\n",
       "  </thead>\n",
       "  <tbody>\n",
       "    <tr>\n",
       "      <th>0</th>\n",
       "      <td>Chinese President Xi Jinping on Monday called ...</td>\n",
       "    </tr>\n",
       "    <tr>\n",
       "      <th>1</th>\n",
       "      <td>\"The global industrial chains and supply chain...</td>\n",
       "    </tr>\n",
       "    <tr>\n",
       "      <th>2</th>\n",
       "      <td>He warned against the effects of raising inter...</td>\n",
       "    </tr>\n",
       "    <tr>\n",
       "      <th>3</th>\n",
       "      <td>\"If major economies slam on the brakes or take...</td>\n",
       "    </tr>\n",
       "    <tr>\n",
       "      <th>4</th>\n",
       "      <td>Many global policymakers are grappling with ri...</td>\n",
       "    </tr>\n",
       "    <tr>\n",
       "      <th>5</th>\n",
       "      <td>The Federal Reserve signaled last month it cou...</td>\n",
       "    </tr>\n",
       "    <tr>\n",
       "      <th>6</th>\n",
       "      <td>But China — the only major economy to grow in ...</td>\n",
       "    </tr>\n",
       "    <tr>\n",
       "      <th>7</th>\n",
       "      <td>The People's Bank of China has been loosening ...</td>\n",
       "    </tr>\n",
       "    <tr>\n",
       "      <th>8</th>\n",
       "      <td>On Monday, the central bank cut a key interest...</td>\n",
       "    </tr>\n",
       "    <tr>\n",
       "      <th>9</th>\n",
       "      <td>Beijing's latest measures came as the country ...</td>\n",
       "    </tr>\n",
       "    <tr>\n",
       "      <th>10</th>\n",
       "      <td>Government economists in China have been warni...</td>\n",
       "    </tr>\n",
       "    <tr>\n",
       "      <th>11</th>\n",
       "      <td>Zhu Baoliang, chief economist at China's State...</td>\n",
       "    </tr>\n",
       "    <tr>\n",
       "      <th>12</th>\n",
       "      <td>\"Historically, the Fed's rate hikes have trigg...</td>\n",
       "    </tr>\n",
       "    <tr>\n",
       "      <th>13</th>\n",
       "      <td>Global investments have poured into the Chines...</td>\n",
       "    </tr>\n",
       "    <tr>\n",
       "      <th>14</th>\n",
       "      <td>Zhu also called attention to the dollar-denomi...</td>\n",
       "    </tr>\n",
       "    <tr>\n",
       "      <th>15</th>\n",
       "      <td>And Yang Shuiqing — a researcher from the Chin...</td>\n",
       "    </tr>\n",
       "    <tr>\n",
       "      <th>16</th>\n",
       "      <td>The International Monetary Fund, meanwhile, ha...</td>\n",
       "    </tr>\n",
       "    <tr>\n",
       "      <th>17</th>\n",
       "      <td>\"Emerging economies should prepare for potenti...</td>\n",
       "    </tr>\n",
       "    <tr>\n",
       "      <th>18</th>\n",
       "      <td>The sentiment about economic growth and inflat...</td>\n",
       "    </tr>\n",
       "    <tr>\n",
       "      <th>19</th>\n",
       "      <td>The economic recovery in emerging countries, m...</td>\n",
       "    </tr>\n",
       "    <tr>\n",
       "      <th>20</th>\n",
       "      <td>\"Faster Fed rate increases in response to infl...</td>\n",
       "    </tr>\n",
       "    <tr>\n",
       "      <th>21</th>\n",
       "      <td>Economists from the Fed wrote last June that r...</td>\n",
       "    </tr>\n",
       "  </tbody>\n",
       "</table>\n",
       "</div>"
      ],
      "text/plain": [
       "                                       paragraph-text\n",
       "0   Chinese President Xi Jinping on Monday called ...\n",
       "1   \"The global industrial chains and supply chain...\n",
       "2   He warned against the effects of raising inter...\n",
       "3   \"If major economies slam on the brakes or take...\n",
       "4   Many global policymakers are grappling with ri...\n",
       "5   The Federal Reserve signaled last month it cou...\n",
       "6   But China — the only major economy to grow in ...\n",
       "7   The People's Bank of China has been loosening ...\n",
       "8   On Monday, the central bank cut a key interest...\n",
       "9   Beijing's latest measures came as the country ...\n",
       "10  Government economists in China have been warni...\n",
       "11  Zhu Baoliang, chief economist at China's State...\n",
       "12  \"Historically, the Fed's rate hikes have trigg...\n",
       "13  Global investments have poured into the Chines...\n",
       "14  Zhu also called attention to the dollar-denomi...\n",
       "15  And Yang Shuiqing — a researcher from the Chin...\n",
       "16  The International Monetary Fund, meanwhile, ha...\n",
       "17  \"Emerging economies should prepare for potenti...\n",
       "18  The sentiment about economic growth and inflat...\n",
       "19  The economic recovery in emerging countries, m...\n",
       "20  \"Faster Fed rate increases in response to infl...\n",
       "21  Economists from the Fed wrote last June that r..."
      ]
     },
     "execution_count": 410,
     "metadata": {},
     "output_type": "execute_result"
    }
   ],
   "source": [
    "contentDivTags = cnnContentSoup.body.findAll('div', {'class':'zn-body__paragraph'})\n",
    "cnnContentParagraphs = []\n",
    "for divTag in contentDivTags:\n",
    "    # get rid of square braces\n",
    "    cnnContentParagraphs.append(re.sub(r'\\[|\\]','',divTag.text))\n",
    "\n",
    "cnnContentParagraphsDF = pandas.DataFrame({'paragraph-text' : cnnContentParagraphs})\n",
    "cnnContentParagraphsDF"
   ]
  },
  {
   "cell_type": "code",
   "execution_count": 411,
   "metadata": {},
   "outputs": [
    {
     "data": {
      "text/html": [
       "<div>\n",
       "<style scoped>\n",
       "    .dataframe tbody tr th:only-of-type {\n",
       "        vertical-align: middle;\n",
       "    }\n",
       "\n",
       "    .dataframe tbody tr th {\n",
       "        vertical-align: top;\n",
       "    }\n",
       "\n",
       "    .dataframe thead th {\n",
       "        text-align: right;\n",
       "    }\n",
       "</style>\n",
       "<table border=\"1\" class=\"dataframe\">\n",
       "  <thead>\n",
       "    <tr style=\"text-align: right;\">\n",
       "      <th></th>\n",
       "      <th>sentence-text</th>\n",
       "      <th>word</th>\n",
       "    </tr>\n",
       "  </thead>\n",
       "  <tbody>\n",
       "    <tr>\n",
       "      <th>0</th>\n",
       "      <td>Government economists in China have been warni...</td>\n",
       "      <td>[Government, economists, in, China, have, been...</td>\n",
       "    </tr>\n",
       "    <tr>\n",
       "      <th>1</th>\n",
       "      <td>Zhu Baoliang, chief economist at China's State...</td>\n",
       "      <td>[Zhu, Baoliang, chief, economist, at, China, s...</td>\n",
       "    </tr>\n",
       "    <tr>\n",
       "      <th>2</th>\n",
       "      <td>\"Historically, the Fed's rate hikes have trigg...</td>\n",
       "      <td>[Historically, the, Fed, s, rate, hikes, have,...</td>\n",
       "    </tr>\n",
       "    <tr>\n",
       "      <th>3</th>\n",
       "      <td>com that the Fed's rate hikes could also slow ...</td>\n",
       "      <td>[com, that, the, Fed, s, rate, hikes, could, a...</td>\n",
       "    </tr>\n",
       "  </tbody>\n",
       "</table>\n",
       "</div>"
      ],
      "text/plain": [
       "                                       sentence-text  \\\n",
       "0  Government economists in China have been warni...   \n",
       "1  Zhu Baoliang, chief economist at China's State...   \n",
       "2  \"Historically, the Fed's rate hikes have trigg...   \n",
       "3  com that the Fed's rate hikes could also slow ...   \n",
       "\n",
       "                                                word  \n",
       "0  [Government, economists, in, China, have, been...  \n",
       "1  [Zhu, Baoliang, chief, economist, at, China, s...  \n",
       "2  [Historically, the, Fed, s, rate, hikes, have,...  \n",
       "3  [com, that, the, Fed, s, rate, hikes, could, a...  "
      ]
     },
     "execution_count": 411,
     "metadata": {},
     "output_type": "execute_result"
    }
   ],
   "source": [
    "ChinaSentences = []\n",
    "for paragraph in cnnContentParagraphsDF['paragraph-text']:\n",
    "    # extract sentences with China, Fed, or warn in them\n",
    "    for sentence in re.findall(r\"([^.]*?China[^.]*\\.)\", paragraph): \n",
    "        if sentence in re.findall(r\"([^.]*?Fed[^.]*\\.)\", paragraph) or \\\n",
    "        sentence in re.findall(r\"([^.]*?warn[^.]*\\.)\", paragraph):\n",
    "            ChinaSentences.append(sentence)\n",
    "            \n",
    "\n",
    "ChinaSentencesDF = pandas.DataFrame({'sentence-text' : ChinaSentences})\n",
    "\n",
    "words = []\n",
    "\n",
    "for sentence in ChinaSentencesDF['sentence-text']:\n",
    "    # naive tokenization\n",
    "    words.append(re.findall('[a-z]+', sentence, flags=re.IGNORECASE))\n",
    "\n",
    "ChinaSentencesDF['word'] = words\n",
    "ChinaSentencesDF\n"
   ]
  },
  {
   "cell_type": "markdown",
   "metadata": {
    "id": "8jW4D33OOmbB"
   },
   "source": [
    "\n",
    "# Spidering\n",
    "\n",
    "What if we want to to get a bunch of different pages from wikipedia. We would\n",
    "need to get the url for each of the pages we want. Typically, we want pages that\n",
    "are linked to by other pages and so we will need to parse pages and identify the\n",
    "links. Right now we will be retrieving all links in the body of the content\n",
    "analysis page.\n",
    "\n",
    "To do this we will need to find all the `<a>` (anchor) tags with `href`s\n",
    "(hyperlink references) inside of `<p>` tags. `href` can have many\n",
    "[different](http://stackoverflow.com/questions/4855168/what-is-href-and-why-is-\n",
    "it-used) [forms](https://en.wikipedia.org/wiki/Hyperlink#Hyperlinks_in_HTML) so\n",
    "dealing with them can be tricky, but generally, you will want to extract\n",
    "absolute or relative links. An absolute link is one you can follow without\n",
    "modification, while a relative link requires a base url that you will then\n",
    "append. Wikipedia uses relative urls for its internal links: below is an example\n",
    "for dealing with them."
   ]
  },
  {
   "cell_type": "code",
   "execution_count": 32,
   "metadata": {
    "id": "qdkr4sdqOmbB"
   },
   "outputs": [
    {
     "name": "stdout",
     "output_type": "stream",
     "text": [
      "[('https://en.wikipedia.org/wiki/Document', 4, 'documents'), ('https://en.wikipedia.org/wiki/Text_(literary_theory)', 5, 'texts'), ('https://en.wikipedia.org/wiki/Coding_(social_sciences)', 5, 'assigned labels (sometimes called codes)'), ('https://en.wikipedia.org/wiki/Semantics', 5, 'meaningful'), ('https://en.wikipedia.org/wiki/Text_(literary_theory)', 5, 'texts'), ('https://en.wikipedia.org/wiki/Quantitative_research', 5, 'quantitatively'), ('https://en.wikipedia.org/wiki/Statistics', 5, 'statistical methods'), ('https://en.wikipedia.org/wiki/Qualitative_research', 5, 'qualitative'), ('https://en.wikipedia.org/wiki/Text_(literary_theory)', 5, 'texts'), ('https://en.wikipedia.org/wiki/Machine_learning', 6, 'Machine learning')]\n"
     ]
    }
   ],
   "source": [
    "#wikipedia_base_url = 'https://en.wikipedia.org'\n",
    "\n",
    "otherPAgeURLS = []\n",
    "#We also want to know where the links come from so we also will get:\n",
    "#the paragraph number\n",
    "#the word the link is in\n",
    "for paragraphNum, pTag in enumerate(contentPTags):\n",
    "    #we only want hrefs that link to wiki pages\n",
    "    tagLinks = pTag.findAll('a', href=re.compile('/wiki/'), class_=False)\n",
    "    for aTag in tagLinks:\n",
    "        #We need to extract the url from the <a> tag\n",
    "        relurl = aTag.get('href')\n",
    "        linkText = aTag.text\n",
    "        #wikipedia_base_url is the base we can use the urllib joining function to merge them\n",
    "        #Giving a nice structured tupe like this means we can use tuple expansion later\n",
    "        otherPAgeURLS.append((\n",
    "            urllib.parse.urljoin(wikipedia_base_url, relurl),\n",
    "            paragraphNum,\n",
    "            linkText,\n",
    "        ))\n",
    "print(otherPAgeURLS[:10])"
   ]
  },
  {
   "cell_type": "code",
   "execution_count": 20,
   "metadata": {
    "id": "VXTYESNnOmbC"
   },
   "outputs": [
    {
     "name": "stdout",
     "output_type": "stream",
     "text": [
      "[<p><b>South Asia </b>\n",
      "</p>, <p><b>Middle East</b>\n",
      "</p>, <p><b>Europe</b>\n",
      "</p>, <p><b>North America</b>\n",
      "</p>, <p><b>Content analysis</b> is the study of <a href=\"/wiki/Document\" title=\"Document\">documents</a> and communication artifacts, which might be texts of various formats, pictures, audio or video. Social scientists use content analysis to examine patterns in communication in a replicable and systematic manner.<sup class=\"reference\" id=\"cite_ref-1\"><a href=\"#cite_note-1\">[1]</a></sup> One of the key advantages of using content analysis to analyse social phenomena is its non-invasive nature, in contrast to simulating social experiences or collecting survey answers.\n",
      "</p>, <p>Practices and philosophies of content analysis vary between academic disciplines. They all involve systematic reading or observation of <a href=\"/wiki/Text_(literary_theory)\" title=\"Text (literary theory)\">texts</a> or artifacts which are <a href=\"/wiki/Coding_(social_sciences)\" title=\"Coding (social sciences)\">assigned labels (sometimes called codes)</a> to indicate the presence of interesting, <a href=\"/wiki/Semantics\" title=\"Semantics\">meaningful</a> pieces of content.<sup class=\"reference\" id=\"cite_ref-2\"><a href=\"#cite_note-2\">[2]</a></sup><sup class=\"reference\" id=\"cite_ref-Tipaldo_2014_42_3-0\"><a href=\"#cite_note-Tipaldo_2014_42-3\">[3]</a></sup> By systematically labeling the content of a set of <a href=\"/wiki/Text_(literary_theory)\" title=\"Text (literary theory)\">texts</a>, researchers can analyse patterns of content <a href=\"/wiki/Quantitative_research\" title=\"Quantitative research\">quantitatively</a> using <a href=\"/wiki/Statistics\" title=\"Statistics\">statistical methods</a>, or use <a href=\"/wiki/Qualitative_research\" title=\"Qualitative research\">qualitative</a> methods to analyse meanings of content within <a href=\"/wiki/Text_(literary_theory)\" title=\"Text (literary theory)\">texts</a>.\n",
      "</p>, <p>Computers are increasingly used in content analysis to automate the labeling (or coding) of documents. Simple computational techniques can provide descriptive data such as word frequencies and document lengths. <a href=\"/wiki/Machine_learning\" title=\"Machine learning\">Machine learning</a> classifiers can greatly increase the number of texts that can be labeled, but the scientific utility of doing so is a matter of debate. Further, numerous computer-aided text analysis (CATA) computer programs are available that analyze text for pre-determined linguistic, semantic, and psychological characteristics.<sup class=\"reference\" id=\"cite_ref-Neuendorf2016_4-0\"><a href=\"#cite_note-Neuendorf2016-4\">[4]</a></sup>\n",
      "</p>, <p>Content analysis is best understood as a broad family of techniques. Effective researchers choose techniques that best help them answer their substantive questions. That said, according to <a href=\"/wiki/Klaus_Krippendorff\" title=\"Klaus Krippendorff\">Klaus Krippendorff</a>, six questions must be addressed in every content analysis:<sup class=\"reference\" id=\"cite_ref-Krippendorff2004_5-0\"><a href=\"#cite_note-Krippendorff2004-5\">[5]</a></sup>\n",
      "</p>, <p>The simplest and most objective form of content analysis considers unambiguous characteristics of the text such as <a class=\"mw-redirect\" href=\"/wiki/Word_frequencies\" title=\"Word frequencies\">word frequencies</a>, the page area taken by a newspaper column, or the duration of a <a href=\"/wiki/Radio\" title=\"Radio\">radio</a> or <a href=\"/wiki/Television\" title=\"Television\">television</a> program. Analysis of simple word frequencies is limited because the meaning of a word depends on surrounding text.  <a href=\"/wiki/Key_Word_in_Context\" title=\"Key Word in Context\">Key Word In Context</a> (KWIC) routines address this by placing words in their textual context. This helps resolve ambiguities such as those introduced by <a href=\"/wiki/Synonym\" title=\"Synonym\">synonyms</a> and <a href=\"/wiki/Homonym\" title=\"Homonym\">homonyms</a>.\n",
      "</p>, <p>A further step in analysis is the distinction between dictionary-based (quantitative) approaches and qualitative approaches. Dictionary-based approaches set up a list of categories derived from the frequency list of words and control the distribution of words and their respective categories over the texts. While methods in quantitative content analysis in this way transform observations of found categories into quantitative statistical data, the qualitative content analysis focuses more on the intentionality and its implications. There are strong parallels between qualitative content analysis and <a href=\"/wiki/Thematic_analysis\" title=\"Thematic analysis\">thematic analysis</a>.<sup class=\"reference\" id=\"cite_ref-6\"><a href=\"#cite_note-6\">[6]</a></sup>\n",
      "</p>, <p>Quantitative content analysis highlights frequency counts and objective analysis of these coded frequencies.<sup class=\"reference\" id=\"cite_ref-:03_7-0\"><a href=\"#cite_note-:03-7\">[7]</a></sup> Additionally, quantitative content analysis begins with a framed hypothesis with coding decided on before the analysis begins. These coding categories are strictly relevant to the researcher's hypothesis. Quantitative analysis also takes a deductive approach.<sup class=\"reference\" id=\"cite_ref-:12_8-0\"><a href=\"#cite_note-:12-8\">[8]</a></sup>\n",
      "</p>, <p><a href=\"/wiki/Siegfried_Kracauer\" title=\"Siegfried Kracauer\">Siegfried Kracauer</a> provides a critique of quantitative analysis, asserting that it oversimplifies complex communications in order to be more reliable. On the other hand, qualitative analysis deals with the intricacies of latent interpretations, whereas quantitative has a focus on manifest meanings. He also acknowledges an \"overlap\" of qualitative and quantitative content analysis.<sup class=\"reference\" id=\"cite_ref-:03_7-1\"><a href=\"#cite_note-:03-7\">[7]</a></sup> Patterns are looked at more closely in qualitative analysis, and based on the latent meanings that the researcher may find, the course of the research could be changed. It is inductive and begins with open research questions, as opposed to a hypothesis.<sup class=\"reference\" id=\"cite_ref-:12_8-1\"><a href=\"#cite_note-:12-8\">[8]</a></sup>\n",
      "</p>, <p>With the rise of common computing facilities like PCs, computer-based methods of analysis are growing in popularity.<sup class=\"reference\" id=\"cite_ref-9\"><a href=\"#cite_note-9\">[9]</a></sup><sup class=\"reference\" id=\"cite_ref-10\"><a href=\"#cite_note-10\">[10]</a></sup><sup class=\"reference\" id=\"cite_ref-11\"><a href=\"#cite_note-11\">[11]</a></sup> Answers to open ended questions, newspaper articles, political party manifestos, medical records or systematic observations in experiments can all be subject to systematic analysis of textual data.\n",
      "</p>, <p>By having contents of communication available in form of machine readable texts, the input is analyzed for frequencies and coded into categories for building up inferences.\n",
      "</p>, <p>Computer-assisted analysis can help with large, electronic data sets by cutting out time and eliminating the need for multiple human coders to establish inter-coder reliability. However, human coders can still be employed for content analysis, as they are often more able to pick out nuanced and latent meanings in text. A study  found that human coders were able to evaluate a broader range and make inferences based on latent meanings.<sup class=\"reference\" id=\"cite_ref-12\"><a href=\"#cite_note-12\">[12]</a></sup>\n",
      "</p>, <p>Robert Weber notes: \"To make valid inferences from the text, it is important that the classification procedure be reliable in the sense of being consistent: Different people should code the same text in the same way\".<sup class=\"reference\" id=\"cite_ref-13\"><a href=\"#cite_note-13\">[13]</a></sup> The validity, inter-coder reliability and intra-coder reliability are subject to intense methodological research efforts over long years.<sup class=\"reference\" id=\"cite_ref-Krippendorff2004_5-1\"><a href=\"#cite_note-Krippendorff2004-5\">[5]</a></sup>\n",
      "Neuendorf suggests that when human coders are used in content analysis at least two independent coders should be used. Reliability of human coding is often measured using a statistical measure of <i>inter-coder reliability</i> or \"the amount of agreement or correspondence among two or more coders\".<sup class=\"reference\" id=\"cite_ref-Neuendorf2016_4-1\"><a href=\"#cite_note-Neuendorf2016-4\">[4]</a></sup> Lacy and Riffe identify the measurement of inter-coder reliability as a strength of quantitative content analysis, arguing that, if content analysts do not measure inter-coder reliability, their data are no more reliable than the subjective impressions of a single reader.<sup class=\"reference\" id=\"cite_ref-14\"><a href=\"#cite_note-14\">[14]</a></sup>\n",
      "</p>, <p>There are five types of texts in content analysis:\n",
      "</p>, <p>Content analysis is research using the categorization and classification of speech, written text, interviews, images, or other forms of communication.  In its beginnings, using the first newspapers at the end of the 19th century, analysis was done manually by measuring the number of columns given a subject. The approach can also be traced back to a university student studying patterns in Shakespeare's literature in 1893.<sup class=\"reference\" id=\"cite_ref-15\"><a href=\"#cite_note-15\">[15]</a></sup>\n",
      "</p>, <p>Over the years, content analysis has been applied to a variety of scopes. <a href=\"/wiki/Hermeneutics\" title=\"Hermeneutics\">Hermeneutics</a> and <a href=\"/wiki/Philology\" title=\"Philology\">philology</a> have long used content analysis to interpret sacred and profane texts and, in many cases, to attribute texts' <a class=\"mw-redirect\" href=\"/wiki/Authorship\" title=\"Authorship\">authorship</a> and <a href=\"/wiki/Authentication\" title=\"Authentication\">authenticity</a>.<sup class=\"reference\" id=\"cite_ref-Tipaldo_2014_42_3-1\"><a href=\"#cite_note-Tipaldo_2014_42-3\">[3]</a></sup><sup class=\"reference\" id=\"cite_ref-Krippendorff2004_5-2\"><a href=\"#cite_note-Krippendorff2004-5\">[5]</a></sup>\n",
      "</p>, <p>In recent times, particularly with the advent of <a href=\"/wiki/Mass_communication\" title=\"Mass communication\">mass communication</a>, content analysis has known an increasing use to deeply analyze and understand media content and <a class=\"new\" href=\"/w/index.php?title=Media_logic&amp;action=edit&amp;redlink=1\" title=\"Media logic (page does not exist)\">media logic</a>. \n",
      "The political scientist <a href=\"/wiki/Harold_Lasswell\" title=\"Harold Lasswell\">Harold Lasswell</a> formulated the core questions of content analysis in its early-mid 20th-century mainstream version: \"Who says what, to whom, why, to what extent and with what effect?\".<sup class=\"reference\" id=\"cite_ref-16\"><a href=\"#cite_note-16\">[16]</a></sup> The strong emphasis for a quantitative approach started up by Lasswell was finally carried out by another \"father\" of content analysis, <a href=\"/wiki/Bernard_Berelson\" title=\"Bernard Berelson\">Bernard Berelson</a>, who proposed a definition of content analysis which, from this point of view, is emblematic: \"a research technique for the objective, systematic and quantitative description of the manifest content of communication\".<sup class=\"reference\" id=\"cite_ref-Berelson1952_17-0\"><a href=\"#cite_note-Berelson1952-17\">[17]</a></sup>\n",
      "</p>, <p>Quantitative content analysis has enjoyed a renewed popularity in recent years thanks to technological advances and fruitful application in of mass communication and personal communication research. Content analysis of textual <a href=\"/wiki/Big_data\" title=\"Big data\">big data</a> produced by <a href=\"/wiki/New_media\" title=\"New media\">new media</a>, particularly <a href=\"/wiki/Social_media\" title=\"Social media\">social media</a> and <a class=\"mw-redirect\" href=\"/wiki/Mobile_devices\" title=\"Mobile devices\">mobile devices</a> has become popular. These approaches take a simplified view of language that ignores the complexity of semiosis, the process by which meaning is formed out of language. Quantitative content analysts have been criticized for limiting the scope of content analysis to simple counting, and for applying the measurement methodologies of the natural sciences without reflecting critically on their appropriateness to social science.<sup class=\"reference\" id=\"cite_ref-:0_18-0\"><a href=\"#cite_note-:0-18\">[18]</a></sup> Conversely, qualitative content analysts have been criticized for being insufficiently systematic and too impressionistic.<sup class=\"reference\" id=\"cite_ref-:0_18-1\"><a href=\"#cite_note-:0-18\">[18]</a></sup> Krippendorff argues that quantitative and qualitative approaches to content analysis tend to overlap, and that there can be no generalisable conclusion as to which approach is superior.<sup class=\"reference\" id=\"cite_ref-:0_18-2\"><a href=\"#cite_note-:0-18\">[18]</a></sup>\n",
      "</p>, <p>Content analysis can also be described as studying <a href=\"/wiki/Trace_evidence\" title=\"Trace evidence\">traces</a>, which are documents from past times, and artifacts, which are non-linguistic documents. Texts are understood to be produced by communication processes in a broad sense of that phrase—often gaining mean through <a href=\"/wiki/Abductive_reasoning\" title=\"Abductive reasoning\">abduction</a>.<sup class=\"reference\" id=\"cite_ref-Tipaldo_2014_42_3-2\"><a href=\"#cite_note-Tipaldo_2014_42-3\">[3]</a></sup><sup class=\"reference\" id=\"cite_ref-19\"><a href=\"#cite_note-19\">[19]</a></sup>\n",
      "</p>, <p>Manifest content is readily understandable at its face value. Its meaning is direct. Latent content is not as overt, and requires interpretation to uncover the meaning or implication.<sup class=\"reference\" id=\"cite_ref-20\"><a href=\"#cite_note-20\">[20]</a></sup>\n",
      "</p>, <p>Holsti groups fifteen uses of content analysis into three basic <a class=\"mw-redirect\" href=\"/wiki/Categorisation\" title=\"Categorisation\">categories</a>:<sup class=\"reference\" id=\"cite_ref-Holsti1969_21-0\"><a href=\"#cite_note-Holsti1969-21\">[21]</a></sup>\n",
      "</p>, <p>He also places these uses into the context of the basic communication <a href=\"/wiki/Paradigm\" title=\"Paradigm\">paradigm</a>.\n",
      "</p>, <p>The following table shows fifteen uses of content analysis in terms of their general purpose, element of the communication paradigm to which they apply, and the general question they are intended to answer.\n",
      "</p>, <p>As a counterpoint, there are limits to the scope of use for the procedures that characterize content analysis. In particular, if access to the goal of analysis can be obtained by direct means without material interference, then direct measurement techniques yield better data.<sup class=\"reference\" id=\"cite_ref-23\"><a href=\"#cite_note-23\">[23]</a></sup> Thus, while content analysis attempts to quantifiably describe <em>communications</em> whose features are primarily categorical——limited usually to a nominal or ordinal scale——via selected conceptual units (the <em>unitization</em>) which are assigned values (the <em>categorization</em>) for <em>enumeration</em> while monitoring <em>intercoder reliability</em>, if instead the target quantity manifestly is already directly measurable——typically on an interval or ratio scale——especially a continuous physical quantity, then such targets usually are not listed among those needing the \"subjective\" selections and formulations of content analysis.<sup class=\"reference\" id=\"cite_ref-24\"><a href=\"#cite_note-24\">[24]</a></sup><sup class=\"reference\" id=\"cite_ref-25\"><a href=\"#cite_note-25\">[25]</a></sup><sup class=\"reference\" id=\"cite_ref-26\"><a href=\"#cite_note-26\">[26]</a></sup><sup class=\"reference\" id=\"cite_ref-27\"><a href=\"#cite_note-27\">[27]</a></sup><sup class=\"reference\" id=\"cite_ref-28\"><a href=\"#cite_note-28\">[28]</a></sup><sup class=\"reference\" id=\"cite_ref-29\"><a href=\"#cite_note-29\">[29]</a></sup><sup class=\"reference\" id=\"cite_ref-30\"><a href=\"#cite_note-30\">[30]</a></sup><sup class=\"reference\" id=\"cite_ref-31\"><a href=\"#cite_note-31\">[31]</a></sup> For example (from mixed research and clinical application), as medical images <em>communicate</em> diagnostic features to physicians, <a href=\"/wiki/Neuroimaging\" title=\"Neuroimaging\">neuroimaging</a>'s <a href=\"/wiki/Stroke\" title=\"Stroke\">stroke</a> (infarct) volume scale called ASPECTS is <em>unitized</em> as 10 qualitatively delineated (unequal) brain regions in the <a href=\"/wiki/Middle_cerebral_artery\" title=\"Middle cerebral artery\">middle cerebral artery</a> territory, which it <em>categorizes</em> as being at least partly versus not at all infarcted in order to <em>enumerate</em> the latter, with published series often assessing <em>intercoder reliability</em> by <a href=\"/wiki/Cohen%27s_kappa\" title=\"Cohen's kappa\">Cohen's kappa</a>. The foregoing <em>italicized operations</em> impose the uncredited <em>form</em> of content analysis onto an estimation of infarct extent, which instead is easily enough and more accurately measured as a volume directly on the images.<sup class=\"reference\" id=\"cite_ref-32\"><a href=\"#cite_note-32\">[32]</a></sup><sup class=\"reference\" id=\"cite_ref-33\"><a href=\"#cite_note-33\">[33]</a></sup> (\"Accuracy ... is the highest form of reliability.\"<sup class=\"reference\" id=\"cite_ref-34\"><a href=\"#cite_note-34\">[34]</a></sup>) The concomitant clinical assessment, however, by the <a href=\"/wiki/National_Institutes_of_Health_Stroke_Scale\" title=\"National Institutes of Health Stroke Scale\">National Institutes of Health Stroke Scale</a> (NIHSS) or the <a href=\"/wiki/Modified_Rankin_Scale\" title=\"Modified Rankin Scale\">modified Rankin Scale</a> (mRS), retains the necessary form of content analysis. Recognizing potential limits of content analysis across the contents of language and images alike, <a href=\"/wiki/Klaus_Krippendorff\" title=\"Klaus Krippendorff\">Klaus Krippendorff</a> affirms that \"comprehen[sion] ... may ... not conform at all to the process of classification and/or counting by which most content analyses proceed,\"<sup class=\"reference\" id=\"cite_ref-35\"><a href=\"#cite_note-35\">[35]</a></sup> suggesting that content analysis might materially distort a message.\n",
      "</p>, <p>The process of the initial coding scheme or approach to coding is contingent on the particular content analysis approach selected. Through a directed content analysis, the scholars draft a preliminary coding scheme from pre-existing theory or assumptions. While with the conventional content analysis approach, the initial coding scheme developed from the data.\n",
      "</p>, <p>With either approach above, immersing oneself into the data to obtain an overall picture is recommendable for researchers to conduct. Furthermore, identifying a consistent and clear unit of coding is vital, and researchers' choices range from a single word to several paragraphs, from texts to iconic symbols. Last, constructing the relationships between codes by sorting out them within specific categories or themes.<sup class=\"reference\" id=\"cite_ref-36\"><a href=\"#cite_note-36\">[36]</a></sup>\n",
      "</p>, <p><br/>\n",
      "</p>]\n"
     ]
    }
   ],
   "source": [
    "print(contentPTags)"
   ]
  },
  {
   "cell_type": "markdown",
   "metadata": {
    "id": "-q30EjBVOmbC"
   },
   "source": [
    "Another excursion: Why do we use enumerate() here? enumerate() takes a collection, enumerates, and returns an enumate object with both the numbers and the collection. For example, contentPTags (the collection we used here) is comprised of paragraphs. We want the paragraph number of each paragraph. And this is what enumerate() does: it returns the paragraph number and the paragraph. "
   ]
  },
  {
   "cell_type": "markdown",
   "metadata": {
    "id": "kq15Be4lOmbC"
   },
   "source": [
    "We will be adding these new texts to our DataFrame `contentParagraphsDF` so we\n",
    "will need to add 2 more columns to keep track of paragraph numbers and sources."
   ]
  },
  {
   "cell_type": "code",
   "execution_count": 21,
   "metadata": {
    "id": "bTC9HDnnOmbC"
   },
   "outputs": [
    {
     "data": {
      "text/html": [
       "<div>\n",
       "<style scoped>\n",
       "    .dataframe tbody tr th:only-of-type {\n",
       "        vertical-align: middle;\n",
       "    }\n",
       "\n",
       "    .dataframe tbody tr th {\n",
       "        vertical-align: top;\n",
       "    }\n",
       "\n",
       "    .dataframe thead th {\n",
       "        text-align: right;\n",
       "    }\n",
       "</style>\n",
       "<table border=\"1\" class=\"dataframe\">\n",
       "  <thead>\n",
       "    <tr style=\"text-align: right;\">\n",
       "      <th></th>\n",
       "      <th>paragraph-text</th>\n",
       "      <th>source</th>\n",
       "      <th>paragraph-number</th>\n",
       "    </tr>\n",
       "  </thead>\n",
       "  <tbody>\n",
       "    <tr>\n",
       "      <th>0</th>\n",
       "      <td>South Asia \\n</td>\n",
       "      <td>https://en.wikipedia.org/wiki/Content_analysis</td>\n",
       "      <td>0</td>\n",
       "    </tr>\n",
       "    <tr>\n",
       "      <th>1</th>\n",
       "      <td>Middle East\\n</td>\n",
       "      <td>https://en.wikipedia.org/wiki/Content_analysis</td>\n",
       "      <td>1</td>\n",
       "    </tr>\n",
       "    <tr>\n",
       "      <th>2</th>\n",
       "      <td>Europe\\n</td>\n",
       "      <td>https://en.wikipedia.org/wiki/Content_analysis</td>\n",
       "      <td>2</td>\n",
       "    </tr>\n",
       "    <tr>\n",
       "      <th>3</th>\n",
       "      <td>North America\\n</td>\n",
       "      <td>https://en.wikipedia.org/wiki/Content_analysis</td>\n",
       "      <td>3</td>\n",
       "    </tr>\n",
       "    <tr>\n",
       "      <th>4</th>\n",
       "      <td>Content analysis is the study of documents and...</td>\n",
       "      <td>https://en.wikipedia.org/wiki/Content_analysis</td>\n",
       "      <td>4</td>\n",
       "    </tr>\n",
       "    <tr>\n",
       "      <th>5</th>\n",
       "      <td>Practices and philosophies of content analysis...</td>\n",
       "      <td>https://en.wikipedia.org/wiki/Content_analysis</td>\n",
       "      <td>5</td>\n",
       "    </tr>\n",
       "    <tr>\n",
       "      <th>6</th>\n",
       "      <td>Computers are increasingly used in content ana...</td>\n",
       "      <td>https://en.wikipedia.org/wiki/Content_analysis</td>\n",
       "      <td>6</td>\n",
       "    </tr>\n",
       "    <tr>\n",
       "      <th>7</th>\n",
       "      <td>Content analysis is best understood as a broad...</td>\n",
       "      <td>https://en.wikipedia.org/wiki/Content_analysis</td>\n",
       "      <td>7</td>\n",
       "    </tr>\n",
       "    <tr>\n",
       "      <th>8</th>\n",
       "      <td>The simplest and most objective form of conten...</td>\n",
       "      <td>https://en.wikipedia.org/wiki/Content_analysis</td>\n",
       "      <td>8</td>\n",
       "    </tr>\n",
       "    <tr>\n",
       "      <th>9</th>\n",
       "      <td>A further step in analysis is the distinction ...</td>\n",
       "      <td>https://en.wikipedia.org/wiki/Content_analysis</td>\n",
       "      <td>9</td>\n",
       "    </tr>\n",
       "    <tr>\n",
       "      <th>10</th>\n",
       "      <td>Quantitative content analysis highlights frequ...</td>\n",
       "      <td>https://en.wikipedia.org/wiki/Content_analysis</td>\n",
       "      <td>10</td>\n",
       "    </tr>\n",
       "    <tr>\n",
       "      <th>11</th>\n",
       "      <td>Siegfried Kracauer provides a critique of quan...</td>\n",
       "      <td>https://en.wikipedia.org/wiki/Content_analysis</td>\n",
       "      <td>11</td>\n",
       "    </tr>\n",
       "    <tr>\n",
       "      <th>12</th>\n",
       "      <td>With the rise of common computing facilities l...</td>\n",
       "      <td>https://en.wikipedia.org/wiki/Content_analysis</td>\n",
       "      <td>12</td>\n",
       "    </tr>\n",
       "    <tr>\n",
       "      <th>13</th>\n",
       "      <td>By having contents of communication available ...</td>\n",
       "      <td>https://en.wikipedia.org/wiki/Content_analysis</td>\n",
       "      <td>13</td>\n",
       "    </tr>\n",
       "    <tr>\n",
       "      <th>14</th>\n",
       "      <td>Computer-assisted analysis can help with large...</td>\n",
       "      <td>https://en.wikipedia.org/wiki/Content_analysis</td>\n",
       "      <td>14</td>\n",
       "    </tr>\n",
       "    <tr>\n",
       "      <th>15</th>\n",
       "      <td>Robert Weber notes: \"To make valid inferences ...</td>\n",
       "      <td>https://en.wikipedia.org/wiki/Content_analysis</td>\n",
       "      <td>15</td>\n",
       "    </tr>\n",
       "    <tr>\n",
       "      <th>16</th>\n",
       "      <td>There are five types of texts in content analy...</td>\n",
       "      <td>https://en.wikipedia.org/wiki/Content_analysis</td>\n",
       "      <td>16</td>\n",
       "    </tr>\n",
       "    <tr>\n",
       "      <th>17</th>\n",
       "      <td>Content analysis is research using the categor...</td>\n",
       "      <td>https://en.wikipedia.org/wiki/Content_analysis</td>\n",
       "      <td>17</td>\n",
       "    </tr>\n",
       "    <tr>\n",
       "      <th>18</th>\n",
       "      <td>Over the years, content analysis has been appl...</td>\n",
       "      <td>https://en.wikipedia.org/wiki/Content_analysis</td>\n",
       "      <td>18</td>\n",
       "    </tr>\n",
       "    <tr>\n",
       "      <th>19</th>\n",
       "      <td>In recent times, particularly with the advent ...</td>\n",
       "      <td>https://en.wikipedia.org/wiki/Content_analysis</td>\n",
       "      <td>19</td>\n",
       "    </tr>\n",
       "    <tr>\n",
       "      <th>20</th>\n",
       "      <td>Quantitative content analysis has enjoyed a re...</td>\n",
       "      <td>https://en.wikipedia.org/wiki/Content_analysis</td>\n",
       "      <td>20</td>\n",
       "    </tr>\n",
       "    <tr>\n",
       "      <th>21</th>\n",
       "      <td>Content analysis can also be described as stud...</td>\n",
       "      <td>https://en.wikipedia.org/wiki/Content_analysis</td>\n",
       "      <td>21</td>\n",
       "    </tr>\n",
       "    <tr>\n",
       "      <th>22</th>\n",
       "      <td>Manifest content is readily understandable at ...</td>\n",
       "      <td>https://en.wikipedia.org/wiki/Content_analysis</td>\n",
       "      <td>22</td>\n",
       "    </tr>\n",
       "    <tr>\n",
       "      <th>23</th>\n",
       "      <td>Holsti groups fifteen uses of content analysis...</td>\n",
       "      <td>https://en.wikipedia.org/wiki/Content_analysis</td>\n",
       "      <td>23</td>\n",
       "    </tr>\n",
       "    <tr>\n",
       "      <th>24</th>\n",
       "      <td>He also places these uses into the context of ...</td>\n",
       "      <td>https://en.wikipedia.org/wiki/Content_analysis</td>\n",
       "      <td>24</td>\n",
       "    </tr>\n",
       "    <tr>\n",
       "      <th>25</th>\n",
       "      <td>The following table shows fifteen uses of cont...</td>\n",
       "      <td>https://en.wikipedia.org/wiki/Content_analysis</td>\n",
       "      <td>25</td>\n",
       "    </tr>\n",
       "    <tr>\n",
       "      <th>26</th>\n",
       "      <td>As a counterpoint, there are limits to the sco...</td>\n",
       "      <td>https://en.wikipedia.org/wiki/Content_analysis</td>\n",
       "      <td>26</td>\n",
       "    </tr>\n",
       "    <tr>\n",
       "      <th>27</th>\n",
       "      <td>The process of the initial coding scheme or ap...</td>\n",
       "      <td>https://en.wikipedia.org/wiki/Content_analysis</td>\n",
       "      <td>27</td>\n",
       "    </tr>\n",
       "    <tr>\n",
       "      <th>28</th>\n",
       "      <td>With either approach above, immersing oneself ...</td>\n",
       "      <td>https://en.wikipedia.org/wiki/Content_analysis</td>\n",
       "      <td>28</td>\n",
       "    </tr>\n",
       "    <tr>\n",
       "      <th>29</th>\n",
       "      <td>\\n</td>\n",
       "      <td>https://en.wikipedia.org/wiki/Content_analysis</td>\n",
       "      <td>29</td>\n",
       "    </tr>\n",
       "  </tbody>\n",
       "</table>\n",
       "</div>"
      ],
      "text/plain": [
       "                                       paragraph-text  \\\n",
       "0                                       South Asia \\n   \n",
       "1                                       Middle East\\n   \n",
       "2                                            Europe\\n   \n",
       "3                                     North America\\n   \n",
       "4   Content analysis is the study of documents and...   \n",
       "5   Practices and philosophies of content analysis...   \n",
       "6   Computers are increasingly used in content ana...   \n",
       "7   Content analysis is best understood as a broad...   \n",
       "8   The simplest and most objective form of conten...   \n",
       "9   A further step in analysis is the distinction ...   \n",
       "10  Quantitative content analysis highlights frequ...   \n",
       "11  Siegfried Kracauer provides a critique of quan...   \n",
       "12  With the rise of common computing facilities l...   \n",
       "13  By having contents of communication available ...   \n",
       "14  Computer-assisted analysis can help with large...   \n",
       "15  Robert Weber notes: \"To make valid inferences ...   \n",
       "16  There are five types of texts in content analy...   \n",
       "17  Content analysis is research using the categor...   \n",
       "18  Over the years, content analysis has been appl...   \n",
       "19  In recent times, particularly with the advent ...   \n",
       "20  Quantitative content analysis has enjoyed a re...   \n",
       "21  Content analysis can also be described as stud...   \n",
       "22  Manifest content is readily understandable at ...   \n",
       "23  Holsti groups fifteen uses of content analysis...   \n",
       "24  He also places these uses into the context of ...   \n",
       "25  The following table shows fifteen uses of cont...   \n",
       "26  As a counterpoint, there are limits to the sco...   \n",
       "27  The process of the initial coding scheme or ap...   \n",
       "28  With either approach above, immersing oneself ...   \n",
       "29                                                 \\n   \n",
       "\n",
       "                                            source  paragraph-number  \n",
       "0   https://en.wikipedia.org/wiki/Content_analysis                 0  \n",
       "1   https://en.wikipedia.org/wiki/Content_analysis                 1  \n",
       "2   https://en.wikipedia.org/wiki/Content_analysis                 2  \n",
       "3   https://en.wikipedia.org/wiki/Content_analysis                 3  \n",
       "4   https://en.wikipedia.org/wiki/Content_analysis                 4  \n",
       "5   https://en.wikipedia.org/wiki/Content_analysis                 5  \n",
       "6   https://en.wikipedia.org/wiki/Content_analysis                 6  \n",
       "7   https://en.wikipedia.org/wiki/Content_analysis                 7  \n",
       "8   https://en.wikipedia.org/wiki/Content_analysis                 8  \n",
       "9   https://en.wikipedia.org/wiki/Content_analysis                 9  \n",
       "10  https://en.wikipedia.org/wiki/Content_analysis                10  \n",
       "11  https://en.wikipedia.org/wiki/Content_analysis                11  \n",
       "12  https://en.wikipedia.org/wiki/Content_analysis                12  \n",
       "13  https://en.wikipedia.org/wiki/Content_analysis                13  \n",
       "14  https://en.wikipedia.org/wiki/Content_analysis                14  \n",
       "15  https://en.wikipedia.org/wiki/Content_analysis                15  \n",
       "16  https://en.wikipedia.org/wiki/Content_analysis                16  \n",
       "17  https://en.wikipedia.org/wiki/Content_analysis                17  \n",
       "18  https://en.wikipedia.org/wiki/Content_analysis                18  \n",
       "19  https://en.wikipedia.org/wiki/Content_analysis                19  \n",
       "20  https://en.wikipedia.org/wiki/Content_analysis                20  \n",
       "21  https://en.wikipedia.org/wiki/Content_analysis                21  \n",
       "22  https://en.wikipedia.org/wiki/Content_analysis                22  \n",
       "23  https://en.wikipedia.org/wiki/Content_analysis                23  \n",
       "24  https://en.wikipedia.org/wiki/Content_analysis                24  \n",
       "25  https://en.wikipedia.org/wiki/Content_analysis                25  \n",
       "26  https://en.wikipedia.org/wiki/Content_analysis                26  \n",
       "27  https://en.wikipedia.org/wiki/Content_analysis                27  \n",
       "28  https://en.wikipedia.org/wiki/Content_analysis                28  \n",
       "29  https://en.wikipedia.org/wiki/Content_analysis                29  "
      ]
     },
     "execution_count": 21,
     "metadata": {},
     "output_type": "execute_result"
    }
   ],
   "source": [
    "contentParagraphsDF['source'] = [wikipedia_content_analysis] * len(contentParagraphsDF['paragraph-text'])\n",
    "contentParagraphsDF['paragraph-number'] = range(len(contentParagraphsDF['paragraph-text']))\n",
    "\n",
    "contentParagraphsDF"
   ]
  },
  {
   "cell_type": "markdown",
   "metadata": {
    "id": "W4gwpoSiOmbC"
   },
   "source": [
    "Then we can add two more columns to our `Dataframe` and define a function to\n",
    "parse\n",
    "each linked page and add its text to our DataFrame."
   ]
  },
  {
   "cell_type": "code",
   "execution_count": 22,
   "metadata": {
    "id": "x4bPl7pHOmbD"
   },
   "outputs": [],
   "source": [
    "contentParagraphsDF['source-paragraph-number'] = [None] * len(contentParagraphsDF['paragraph-text'])\n",
    "contentParagraphsDF['source-paragraph-text'] = [None] * len(contentParagraphsDF['paragraph-text'])\n",
    "\n",
    "def getTextFromWikiPage(targetURL, sourceParNum, sourceText):\n",
    "    #Make a dict to store data before adding it to the DataFrame\n",
    "    parsDict = {'source' : [], 'paragraph-number' : [], 'paragraph-text' : [], 'source-paragraph-number' : [],  'source-paragraph-text' : []}\n",
    "    #Now we get the page\n",
    "    r = requests.get(targetURL)\n",
    "    soup = bs4.BeautifulSoup(r.text, 'html.parser')\n",
    "    #enumerating gives use the paragraph number\n",
    "    for parNum, pTag in enumerate(soup.body.findAll('p')):\n",
    "        #same regex as before\n",
    "        parsDict['paragraph-text'].append(re.sub(r'\\[\\d+\\]', '', pTag.text))\n",
    "        parsDict['paragraph-number'].append(parNum)\n",
    "        parsDict['source'].append(targetURL)\n",
    "        parsDict['source-paragraph-number'].append(sourceParNum)\n",
    "        parsDict['source-paragraph-text'].append(sourceText)\n",
    "    return pandas.DataFrame(parsDict)"
   ]
  },
  {
   "cell_type": "markdown",
   "metadata": {
    "id": "06YOrHrSOmbD"
   },
   "source": [
    "And run it on our list of link tags"
   ]
  },
  {
   "cell_type": "code",
   "execution_count": 23,
   "metadata": {
    "id": "R_H3t8gtOmbD"
   },
   "outputs": [
    {
     "data": {
      "text/html": [
       "<div>\n",
       "<style scoped>\n",
       "    .dataframe tbody tr th:only-of-type {\n",
       "        vertical-align: middle;\n",
       "    }\n",
       "\n",
       "    .dataframe tbody tr th {\n",
       "        vertical-align: top;\n",
       "    }\n",
       "\n",
       "    .dataframe thead th {\n",
       "        text-align: right;\n",
       "    }\n",
       "</style>\n",
       "<table border=\"1\" class=\"dataframe\">\n",
       "  <thead>\n",
       "    <tr style=\"text-align: right;\">\n",
       "      <th></th>\n",
       "      <th>paragraph-text</th>\n",
       "      <th>source</th>\n",
       "      <th>paragraph-number</th>\n",
       "      <th>source-paragraph-number</th>\n",
       "      <th>source-paragraph-text</th>\n",
       "    </tr>\n",
       "  </thead>\n",
       "  <tbody>\n",
       "    <tr>\n",
       "      <th>0</th>\n",
       "      <td>South Asia \\n</td>\n",
       "      <td>https://en.wikipedia.org/wiki/Content_analysis</td>\n",
       "      <td>0</td>\n",
       "      <td>None</td>\n",
       "      <td>None</td>\n",
       "    </tr>\n",
       "    <tr>\n",
       "      <th>1</th>\n",
       "      <td>Middle East\\n</td>\n",
       "      <td>https://en.wikipedia.org/wiki/Content_analysis</td>\n",
       "      <td>1</td>\n",
       "      <td>None</td>\n",
       "      <td>None</td>\n",
       "    </tr>\n",
       "    <tr>\n",
       "      <th>2</th>\n",
       "      <td>Europe\\n</td>\n",
       "      <td>https://en.wikipedia.org/wiki/Content_analysis</td>\n",
       "      <td>2</td>\n",
       "      <td>None</td>\n",
       "      <td>None</td>\n",
       "    </tr>\n",
       "    <tr>\n",
       "      <th>3</th>\n",
       "      <td>North America\\n</td>\n",
       "      <td>https://en.wikipedia.org/wiki/Content_analysis</td>\n",
       "      <td>3</td>\n",
       "      <td>None</td>\n",
       "      <td>None</td>\n",
       "    </tr>\n",
       "    <tr>\n",
       "      <th>4</th>\n",
       "      <td>Content analysis is the study of documents and...</td>\n",
       "      <td>https://en.wikipedia.org/wiki/Content_analysis</td>\n",
       "      <td>4</td>\n",
       "      <td>None</td>\n",
       "      <td>None</td>\n",
       "    </tr>\n",
       "    <tr>\n",
       "      <th>...</th>\n",
       "      <td>...</td>\n",
       "      <td>...</td>\n",
       "      <td>...</td>\n",
       "      <td>...</td>\n",
       "      <td>...</td>\n",
       "    </tr>\n",
       "    <tr>\n",
       "      <th>58</th>\n",
       "      <td>Much of qualitative coding can be attributed t...</td>\n",
       "      <td>https://en.wikipedia.org/wiki/Coding_(social_s...</td>\n",
       "      <td>8</td>\n",
       "      <td>5</td>\n",
       "      <td>assigned labels (sometimes called codes)</td>\n",
       "    </tr>\n",
       "    <tr>\n",
       "      <th>59</th>\n",
       "      <td>Coding is considered a process of discovery an...</td>\n",
       "      <td>https://en.wikipedia.org/wiki/Coding_(social_s...</td>\n",
       "      <td>9</td>\n",
       "      <td>5</td>\n",
       "      <td>assigned labels (sometimes called codes)</td>\n",
       "    </tr>\n",
       "    <tr>\n",
       "      <th>60</th>\n",
       "      <td>The process can be done manually, which can be...</td>\n",
       "      <td>https://en.wikipedia.org/wiki/Coding_(social_s...</td>\n",
       "      <td>10</td>\n",
       "      <td>5</td>\n",
       "      <td>assigned labels (sometimes called codes)</td>\n",
       "    </tr>\n",
       "    <tr>\n",
       "      <th>61</th>\n",
       "      <td>After assembling codes it is time to organize ...</td>\n",
       "      <td>https://en.wikipedia.org/wiki/Coding_(social_s...</td>\n",
       "      <td>11</td>\n",
       "      <td>5</td>\n",
       "      <td>assigned labels (sometimes called codes)</td>\n",
       "    </tr>\n",
       "    <tr>\n",
       "      <th>62</th>\n",
       "      <td>Creating memos during the coding process is in...</td>\n",
       "      <td>https://en.wikipedia.org/wiki/Coding_(social_s...</td>\n",
       "      <td>12</td>\n",
       "      <td>5</td>\n",
       "      <td>assigned labels (sometimes called codes)</td>\n",
       "    </tr>\n",
       "  </tbody>\n",
       "</table>\n",
       "<p>63 rows × 5 columns</p>\n",
       "</div>"
      ],
      "text/plain": [
       "                                       paragraph-text  \\\n",
       "0                                       South Asia \\n   \n",
       "1                                       Middle East\\n   \n",
       "2                                            Europe\\n   \n",
       "3                                     North America\\n   \n",
       "4   Content analysis is the study of documents and...   \n",
       "..                                                ...   \n",
       "58  Much of qualitative coding can be attributed t...   \n",
       "59  Coding is considered a process of discovery an...   \n",
       "60  The process can be done manually, which can be...   \n",
       "61  After assembling codes it is time to organize ...   \n",
       "62  Creating memos during the coding process is in...   \n",
       "\n",
       "                                               source  paragraph-number  \\\n",
       "0      https://en.wikipedia.org/wiki/Content_analysis                 0   \n",
       "1      https://en.wikipedia.org/wiki/Content_analysis                 1   \n",
       "2      https://en.wikipedia.org/wiki/Content_analysis                 2   \n",
       "3      https://en.wikipedia.org/wiki/Content_analysis                 3   \n",
       "4      https://en.wikipedia.org/wiki/Content_analysis                 4   \n",
       "..                                                ...               ...   \n",
       "58  https://en.wikipedia.org/wiki/Coding_(social_s...                 8   \n",
       "59  https://en.wikipedia.org/wiki/Coding_(social_s...                 9   \n",
       "60  https://en.wikipedia.org/wiki/Coding_(social_s...                10   \n",
       "61  https://en.wikipedia.org/wiki/Coding_(social_s...                11   \n",
       "62  https://en.wikipedia.org/wiki/Coding_(social_s...                12   \n",
       "\n",
       "   source-paragraph-number                     source-paragraph-text  \n",
       "0                     None                                      None  \n",
       "1                     None                                      None  \n",
       "2                     None                                      None  \n",
       "3                     None                                      None  \n",
       "4                     None                                      None  \n",
       "..                     ...                                       ...  \n",
       "58                       5  assigned labels (sometimes called codes)  \n",
       "59                       5  assigned labels (sometimes called codes)  \n",
       "60                       5  assigned labels (sometimes called codes)  \n",
       "61                       5  assigned labels (sometimes called codes)  \n",
       "62                       5  assigned labels (sometimes called codes)  \n",
       "\n",
       "[63 rows x 5 columns]"
      ]
     },
     "execution_count": 23,
     "metadata": {},
     "output_type": "execute_result"
    }
   ],
   "source": [
    "for urlTuple in otherPAgeURLS[:3]:\n",
    "    #ignore_index means the indices will not be reset after each append\n",
    "    contentParagraphsDF = contentParagraphsDF.append(getTextFromWikiPage(*urlTuple),ignore_index=True)\n",
    "contentParagraphsDF"
   ]
  },
  {
   "cell_type": "markdown",
   "metadata": {
    "id": "JFgBxV4LOmbD"
   },
   "source": [
    "\n",
    "# <font color=\"red\">Exercise 2</font>\n",
    "<font color=\"red\">Construct cells immediately below this that spider webcontent from another site with content relating to your anticipated final project. Specifically, identify urls on a core page, then follow and extract content from them into a pandas `Dataframe`. In addition, demonstrate a *recursive* spider, which follows more than one level of links (i.e., follows links from a site, then follows links on followed sites to new sites, etc.), making sure to define a reasonable endpoint so that you do not wander the web forever :-).</font>\n",
    "\n"
   ]
  },
  {
   "cell_type": "code",
   "execution_count": 412,
   "metadata": {},
   "outputs": [],
   "source": [
    "def getTextFromWikiPage(targetURL, sourceParNum, sourceText):\n",
    "    \n",
    "    #Make a dict to store data before adding it to the DataFrame\n",
    "    parsDict = {'source' : [], 'paragraph-number' : [], 'paragraph-text' : [], 'source-paragraph-number' : [],  'source-paragraph-text' : []}\n",
    "    #Now we get the page\n",
    "    r = requests.get(targetURL)\n",
    "    soup = bs4.BeautifulSoup(r.text, 'html.parser')\n",
    "    #enumerating gives use the paragraph number\n",
    "    for parNum, divTag in enumerate(soup.body.findAll('div', {'class':'zn-body__paragraph'})):\n",
    "        #same regex as before\n",
    "        parsDict['paragraph-text'].append( divTag.text)\n",
    "        parsDict['paragraph-number'].append(parNum)\n",
    "        parsDict['source'].append(targetURL)\n",
    "        parsDict['source-paragraph-number'].append(sourceParNum)\n",
    "        parsDict['source-paragraph-text'].append(sourceText)\n",
    "    return pandas.DataFrame(parsDict)"
   ]
  },
  {
   "cell_type": "markdown",
   "metadata": {},
   "source": [
    "I use a queue here for storing other urls, so that a url is popped when it's used. Then new urls will join the queue."
   ]
  },
  {
   "cell_type": "code",
   "execution_count": 413,
   "metadata": {},
   "outputs": [],
   "source": [
    "def spidering(url, cnnContentParagraphsDF, first, otherURLS):\n",
    "    \n",
    "    print(url)\n",
    "    \n",
    "    cnnContentRequest = requests.get(url)\n",
    "    cnnContentSoup = bs4.BeautifulSoup(cnnContentRequest.text, 'html.parser')\n",
    "    contentDivTags = cnnContentSoup.body.findAll('div', {'class':'zn-body__paragraph'})\n",
    "    \n",
    "    cnnContentParagraphs = []\n",
    "    # check if it is the first page\n",
    "    if first:\n",
    "        for divTag in contentDivTags:\n",
    "\n",
    "            cnnContentParagraphs.append(re.sub(r'\\[|\\]','',divTag.text))\n",
    "    \n",
    "    \n",
    "        cnnContentParagraphsDF['paragraph-text'] = cnnContentParagraphs\n",
    "    \n",
    "    # get other urls\n",
    "    for paragraphNum, divTag in enumerate(contentDivTags):\n",
    "        # I only check cnn sites, so that I don't need to modify link searching condition\n",
    "        tagLinks = divTag.findAll('a',href=re.compile('/www.cnn.com/'), class_=False)\n",
    "        for aTag in tagLinks:\n",
    "        \n",
    "            relurl = aTag.get('href')\n",
    "\n",
    "            linkText = aTag.text\n",
    "\n",
    "            otherURLS.append((\n",
    "                urllib.parse.urljoin(wikipedia_base_url, relurl),\n",
    "                paragraphNum,\n",
    "                linkText,\n",
    "            ))\n",
    "        \n",
    "    if first:\n",
    "        cnnContentParagraphsDF['source'] = [url] * len(cnnContentParagraphsDF['paragraph-text'])\n",
    "        cnnContentParagraphsDF['paragraph-number'] = range(len(cnnContentParagraphsDF['paragraph-text']))\n",
    "    \n",
    "        cnnContentParagraphsDF['source-paragraph-number'] = [None] * len(cnnContentParagraphsDF['paragraph-text'])\n",
    "        cnnContentParagraphsDF['source-paragraph-text'] = [None] * len(cnnContentParagraphsDF['paragraph-text'])\n",
    "    \n",
    "        first = False\n",
    "    # append the paragraphs in all other urls, and make sure that they have not been appended before\n",
    "    for urlTuple in otherURLS:\n",
    "        if urlTuple[0] not in cnnContentParagraphsDF['source'].values:\n",
    "            cnnContentParagraphsDF = cnnContentParagraphsDF.append(getTextFromWikiPage(*urlTuple),ignore_index=True)\n",
    "    \n",
    "    # stop condition\n",
    "    if cnnContentParagraphsDF.shape[0] >= 1000:\n",
    "        return(cnnContentParagraphsDF)\n",
    "    \n",
    "    # get the next url and pop it; recursion \n",
    "    currURL = otherURLS.pop(0)[0]\n",
    "    return spidering(currURL, cnnContentParagraphsDF, first, otherURLS)"
   ]
  },
  {
   "cell_type": "code",
   "execution_count": 414,
   "metadata": {
    "scrolled": true
   },
   "outputs": [
    {
     "name": "stdout",
     "output_type": "stream",
     "text": [
      "https://www.cnn.com/2022/01/19/sport/enes-kanter-freedom-yao-ming-nba-china-spt-intl/index.html\n",
      "https://www.cnn.com/2022/01/17/sport/yao-ming-peng-shuai-condition-meeting-spt-intl/index.html\n",
      "https://www.cnn.com/2021/11/28/sport/enes-kanter-freedom-name-change/index.html\n",
      "http://www.cnn.com/2022/01/17/sport/winter-olympics-explainer-beijing-2022-spt-intl/index.html\n",
      "https://www.cnn.com/2022/01/18/sport/chamath-palihapitiya-golden-state-warriors-uyghurs-spt-intl/index.html\n",
      "https://www.cnn.com/2021/11/19/tennis/peng-shuai-china-explainer-intl-hnk/index.html\n",
      "https://www.cnn.com/2022/01/17/sport/winter-olympics-explainer-beijing-2022-spt-intl/index.html\n",
      "http://www.cnn.com/2021/12/20/tennis/peng-shuai-retracts-sexual-assault-allegations-intl-hnk/index.html\n",
      "http://www.cnn.com/2019/10/07/business/houston-rockets-nba-china-daryl-morey/index.html\n",
      "http://www.cnn.com/2021/11/28/sport/enes-kanter-freedom-name-change/index.html\n",
      "http://www.cnn.com/2022/01/17/sport/winter-olympics-china-tickets-covid-19-spt-intl/index.html\n",
      "https://www.cnn.com/2021/10/04/china/xinjiang-detective-torture-intl-hnk-dst/index.html\n",
      "http://www.cnn.com/video/data/2.0/video/sports/2021/03/02/mikaela-shiffrin-beijing-olympics-uyghurs-muslim-xinjiang-2022-spt-intl.cnn.html\n",
      "http://www.cnn.com/2021/07/26/sport/what-is-roc-olympics-explainer-spt-trnd/index.html\n",
      "https://www.cnn.com/specials/asia/hong-kong\n",
      "https://www.cnn.com/specials/sport/beijing-winter-olympics-2022\n",
      "http://www.cnn.com/2021/11/17/tennis/peng-shuai-naomi-osaka-intl-hnk/index.html\n",
      "https://www.cnn.com/2021/11/18/china/wta-ceo-peng-shuai-steve-simon-intl-hnk/index.html\n",
      "https://www.cnn.com/2014/09/02/sport/tennis/us-open-peng-shuai-bencic-tennis/index.html\n",
      "https://www.cnn.com/2021/08/11/china/sexual-assault-mic-intl-hnk/index.html\n"
     ]
    },
    {
     "data": {
      "text/html": [
       "<div>\n",
       "<style scoped>\n",
       "    .dataframe tbody tr th:only-of-type {\n",
       "        vertical-align: middle;\n",
       "    }\n",
       "\n",
       "    .dataframe tbody tr th {\n",
       "        vertical-align: top;\n",
       "    }\n",
       "\n",
       "    .dataframe thead th {\n",
       "        text-align: right;\n",
       "    }\n",
       "</style>\n",
       "<table border=\"1\" class=\"dataframe\">\n",
       "  <thead>\n",
       "    <tr style=\"text-align: right;\">\n",
       "      <th></th>\n",
       "      <th>paragraph-text</th>\n",
       "      <th>source</th>\n",
       "      <th>paragraph-number</th>\n",
       "      <th>source-paragraph-number</th>\n",
       "      <th>source-paragraph-text</th>\n",
       "    </tr>\n",
       "  </thead>\n",
       "  <tbody>\n",
       "    <tr>\n",
       "      <th>0</th>\n",
       "      <td>On Monday, at a press conference in Beijing, f...</td>\n",
       "      <td>https://www.cnn.com/2022/01/19/sport/enes-kant...</td>\n",
       "      <td>0.0</td>\n",
       "      <td>None</td>\n",
       "      <td>None</td>\n",
       "    </tr>\n",
       "    <tr>\n",
       "      <th>1</th>\n",
       "      <td>Freedom -- the Boston Celtics center who offic...</td>\n",
       "      <td>https://www.cnn.com/2022/01/19/sport/enes-kant...</td>\n",
       "      <td>1.0</td>\n",
       "      <td>None</td>\n",
       "      <td>None</td>\n",
       "    </tr>\n",
       "    <tr>\n",
       "      <th>2</th>\n",
       "      <td>The US State Department estimates as many as t...</td>\n",
       "      <td>https://www.cnn.com/2022/01/19/sport/enes-kant...</td>\n",
       "      <td>2.0</td>\n",
       "      <td>None</td>\n",
       "      <td>None</td>\n",
       "    </tr>\n",
       "    <tr>\n",
       "      <th>3</th>\n",
       "      <td>\"I want to say thank you to Mr. Yao Ming ... I...</td>\n",
       "      <td>https://www.cnn.com/2022/01/19/sport/enes-kant...</td>\n",
       "      <td>3.0</td>\n",
       "      <td>None</td>\n",
       "      <td>None</td>\n",
       "    </tr>\n",
       "    <tr>\n",
       "      <th>4</th>\n",
       "      <td>He added: \"I don't need a lecture through Chin...</td>\n",
       "      <td>https://www.cnn.com/2022/01/19/sport/enes-kant...</td>\n",
       "      <td>4.0</td>\n",
       "      <td>None</td>\n",
       "      <td>None</td>\n",
       "    </tr>\n",
       "    <tr>\n",
       "      <th>...</th>\n",
       "      <td>...</td>\n",
       "      <td>...</td>\n",
       "      <td>...</td>\n",
       "      <td>...</td>\n",
       "      <td>...</td>\n",
       "    </tr>\n",
       "    <tr>\n",
       "      <th>999</th>\n",
       "      <td>The recall includes 35,665 imported Model 3 ve...</td>\n",
       "      <td>https://www.cnn.com/2021/06/26/cars/tesla-reca...</td>\n",
       "      <td>1.0</td>\n",
       "      <td>32</td>\n",
       "      <td>resolve issues with the cruise control system</td>\n",
       "    </tr>\n",
       "    <tr>\n",
       "      <th>1000</th>\n",
       "      <td>Tesla apologized for the recall on Saturday in...</td>\n",
       "      <td>https://www.cnn.com/2021/06/26/cars/tesla-reca...</td>\n",
       "      <td>2.0</td>\n",
       "      <td>32</td>\n",
       "      <td>resolve issues with the cruise control system</td>\n",
       "    </tr>\n",
       "    <tr>\n",
       "      <th>1001</th>\n",
       "      <td>\"We apologize for any inconvenience this may c...</td>\n",
       "      <td>https://www.cnn.com/2021/06/26/cars/tesla-reca...</td>\n",
       "      <td>3.0</td>\n",
       "      <td>32</td>\n",
       "      <td>resolve issues with the cruise control system</td>\n",
       "    </tr>\n",
       "    <tr>\n",
       "      <th>1002</th>\n",
       "      <td>China has proven to be a difficult market for ...</td>\n",
       "      <td>https://www.cnn.com/2021/06/26/cars/tesla-reca...</td>\n",
       "      <td>4.0</td>\n",
       "      <td>32</td>\n",
       "      <td>resolve issues with the cruise control system</td>\n",
       "    </tr>\n",
       "    <tr>\n",
       "      <th>1003</th>\n",
       "      <td>The electric car leader sold fewer than 26,000...</td>\n",
       "      <td>https://www.cnn.com/2021/06/26/cars/tesla-reca...</td>\n",
       "      <td>5.0</td>\n",
       "      <td>32</td>\n",
       "      <td>resolve issues with the cruise control system</td>\n",
       "    </tr>\n",
       "  </tbody>\n",
       "</table>\n",
       "<p>1004 rows × 5 columns</p>\n",
       "</div>"
      ],
      "text/plain": [
       "                                         paragraph-text  \\\n",
       "0     On Monday, at a press conference in Beijing, f...   \n",
       "1     Freedom -- the Boston Celtics center who offic...   \n",
       "2     The US State Department estimates as many as t...   \n",
       "3     \"I want to say thank you to Mr. Yao Ming ... I...   \n",
       "4     He added: \"I don't need a lecture through Chin...   \n",
       "...                                                 ...   \n",
       "999   The recall includes 35,665 imported Model 3 ve...   \n",
       "1000  Tesla apologized for the recall on Saturday in...   \n",
       "1001  \"We apologize for any inconvenience this may c...   \n",
       "1002  China has proven to be a difficult market for ...   \n",
       "1003  The electric car leader sold fewer than 26,000...   \n",
       "\n",
       "                                                 source  paragraph-number  \\\n",
       "0     https://www.cnn.com/2022/01/19/sport/enes-kant...               0.0   \n",
       "1     https://www.cnn.com/2022/01/19/sport/enes-kant...               1.0   \n",
       "2     https://www.cnn.com/2022/01/19/sport/enes-kant...               2.0   \n",
       "3     https://www.cnn.com/2022/01/19/sport/enes-kant...               3.0   \n",
       "4     https://www.cnn.com/2022/01/19/sport/enes-kant...               4.0   \n",
       "...                                                 ...               ...   \n",
       "999   https://www.cnn.com/2021/06/26/cars/tesla-reca...               1.0   \n",
       "1000  https://www.cnn.com/2021/06/26/cars/tesla-reca...               2.0   \n",
       "1001  https://www.cnn.com/2021/06/26/cars/tesla-reca...               3.0   \n",
       "1002  https://www.cnn.com/2021/06/26/cars/tesla-reca...               4.0   \n",
       "1003  https://www.cnn.com/2021/06/26/cars/tesla-reca...               5.0   \n",
       "\n",
       "     source-paragraph-number                          source-paragraph-text  \n",
       "0                       None                                           None  \n",
       "1                       None                                           None  \n",
       "2                       None                                           None  \n",
       "3                       None                                           None  \n",
       "4                       None                                           None  \n",
       "...                      ...                                            ...  \n",
       "999                       32  resolve issues with the cruise control system  \n",
       "1000                      32  resolve issues with the cruise control system  \n",
       "1001                      32  resolve issues with the cruise control system  \n",
       "1002                      32  resolve issues with the cruise control system  \n",
       "1003                      32  resolve issues with the cruise control system  \n",
       "\n",
       "[1004 rows x 5 columns]"
      ]
     },
     "execution_count": 414,
     "metadata": {},
     "output_type": "execute_result"
    }
   ],
   "source": [
    "cnnContent = pandas.DataFrame()\n",
    "otherURLS = []\n",
    "spidering('https://www.cnn.com/2022/01/19/sport/enes-kanter-freedom-yao-ming-nba-china-spt-intl/index.html', cnnContent, True, otherURLS)"
   ]
  },
  {
   "cell_type": "markdown",
   "metadata": {
    "id": "dXtaSZCkOmbE"
   },
   "source": [
    "## API (Tumblr)\n",
    "\n",
    "Generally website owners do not like you scraping their sites. If done badly,\n",
    "scarping can act like a DOS attack so you should be careful how often you make\n",
    "calls to a site. Some sites want automated tools to access their data, so they\n",
    "create [application programming interface\n",
    "(APIs)](https://en.wikipedia.org/wiki/Application_programming_interface). An API\n",
    "specifies a procedure for an application (or script) to access their data. Often\n",
    "this is though a [representational state transfer\n",
    "(REST)](https://en.wikipedia.org/wiki/Representational_state_transfer) web\n",
    "service, which just means if you make correctly formatted HTTP requests they\n",
    "will return nicely formatted data.\n",
    "\n",
    "A nice example for us to study is [Tumblr](https://www.tumblr.com), they have a\n",
    "[simple RESTful API](https://www.tumblr.com/docs/en/api/v1) that allows you to\n",
    "read posts without any complicated html parsing.\n",
    "\n",
    "We can get the first 20 posts from a blog by making an http GET request to\n",
    "`'http://{blog}.tumblr.com/api/read/json'`, were `{blog}` is the name of the\n",
    "target blog. Lets try and get the posts from [http://lolcats-lol-\n",
    "cat.tumblr.com/](http://lolcats-lol-cat.tumblr.com/) (Note the blog says at the\n",
    "top 'One hour one pic lolcats', but the canonical name that Tumblr uses is in\n",
    "the URL 'lolcats-lol-cat')."
   ]
  },
  {
   "cell_type": "code",
   "execution_count": 81,
   "metadata": {
    "id": "MG5_q9A6OmbE"
   },
   "outputs": [
    {
     "name": "stdout",
     "output_type": "stream",
     "text": [
      "var tumblr_api_read = {\"tumblelog\":{\"title\":\"One hour one pic lolcats\",\"description\":\"\",\"name\":\"lolcats-lol-cat\",\"timezone\":\"Europe\\/Paris\",\"cname\":false,\"feeds\":[]},\"posts-start\":0,\"posts-total\":3925,\"posts-type\":false,\"posts\":[{\"id\":\"662815854023655425\",\"url\":\"https:\\/\\/lolcats-lol-cat.tumblr.com\\/post\\/662815854023655425\",\"url-with-slug\":\"https:\\/\\/lolcats-lol-cat.tumblr.com\\/post\\/662815854023655425\",\"type\":\"photo\",\"date-gmt\":\"2021-09-20 04:00:56 GMT\",\"date\":\"Mon, 20 Sep 2021 06:00:56\",\"bookmarklet\":0,\"mobile\":0,\"feed-item\":\"\",\"from-feed-id\":0,\"unix-timestamp\":1632110456,\"format\":\"html\",\"reblog-key\":\"kjH8cg34\",\"slug\":\"\",\"is-submission\":false,\"like-button\":\"<div class=\\\"like_button\\\" data-post-id=\\\"662815854023655425\\\" data-blog-name=\\\"lolcats-lol-cat\\\" id=\\\"like_button_662815854023655425\\\"><iframe id=\\\"like_iframe_662815854023655425\\\" src=\\\"https:\\/\\/assets.tumblr.com\\/assets\\/html\\/like_iframe.html?_v=66c22ab5319d742bca5762b8d18f9d06#name=lolcats-lol-cat&amp;post_id=66281585402365\n"
     ]
    }
   ],
   "source": [
    "tumblrAPItarget = 'http://{}.tumblr.com/api/read/json'\n",
    "\n",
    "r = requests.get(tumblrAPItarget.format('lolcats-lol-cat'))\n",
    "\n",
    "print(r.text[:1000])"
   ]
  },
  {
   "cell_type": "markdown",
   "metadata": {
    "id": "fUyJcV_BOmbF"
   },
   "source": [
    "This might not look very good on first inspection, but it has far fewer angle\n",
    "braces than html, which makes it easier to parse. What we have is\n",
    "[JSON](https://en.wikipedia.org/wiki/JSON) a 'human readable' text based data\n",
    "transmission format based on javascript. Luckily, we can readily convert it to a\n",
    "python `dict`."
   ]
  },
  {
   "cell_type": "code",
   "execution_count": 82,
   "metadata": {
    "id": "NAanoykvOmbF"
   },
   "outputs": [
    {
     "name": "stdout",
     "output_type": "stream",
     "text": [
      "dict_keys(['tumblelog', 'posts-start', 'posts-total', 'posts-type', 'posts'])\n",
      "20\n"
     ]
    }
   ],
   "source": [
    "#We need to load only the stuff between the curly braces\n",
    "d = json.loads(r.text[len('var tumblr_api_read = '):-2])\n",
    "print(d.keys())\n",
    "print(len(d['posts']))"
   ]
  },
  {
   "cell_type": "markdown",
   "metadata": {
    "id": "qiJMc6rMOmbF"
   },
   "source": [
    "If we read the [API specification](https://www.tumblr.com/docs/en/api/v1), we\n",
    "will see there are a lot of things we can get if we add things to our GET\n",
    "request. First we can retrieve posts by their id number. Let's first get post\n",
    "`146020177084`."
   ]
  },
  {
   "cell_type": "code",
   "execution_count": 83,
   "metadata": {
    "id": "BwWjv6WHOmbG"
   },
   "outputs": [],
   "source": [
    "r = requests.get(tumblrAPItarget.format('lolcats-lol-cat'), params = {'id' : 146020177084})\n",
    "d = json.loads(r.text[len('var tumblr_api_read = '):-2])\n",
    "d['posts'][0].keys()\n",
    "d['posts'][0]['photo-url-1280']\n",
    "\n",
    "with open('lolcat.gif', 'wb') as f:\n",
    "    gifRequest = requests.get(d['posts'][0]['photo-url-1280'], stream = True)\n",
    "    f.write(gifRequest.content)"
   ]
  },
  {
   "cell_type": "markdown",
   "metadata": {
    "id": "J3RRqYt-OmbG"
   },
   "source": [
    "<img src='lolcat.gif'>\n",
    "\n",
    "Such beauty; such vigor (If you can't see it you have to refresh the page). Now\n",
    "we could retrieve the text from all posts as well\n",
    "as related metadata, like the post date, caption or tags. We could also get\n",
    "links to all the images."
   ]
  },
  {
   "cell_type": "code",
   "execution_count": 84,
   "metadata": {
    "id": "KM33Tbc4OmbG"
   },
   "outputs": [
    {
     "data": {
      "text/html": [
       "<div>\n",
       "<style scoped>\n",
       "    .dataframe tbody tr th:only-of-type {\n",
       "        vertical-align: middle;\n",
       "    }\n",
       "\n",
       "    .dataframe tbody tr th {\n",
       "        vertical-align: top;\n",
       "    }\n",
       "\n",
       "    .dataframe thead th {\n",
       "        text-align: right;\n",
       "    }\n",
       "</style>\n",
       "<table border=\"1\" class=\"dataframe\">\n",
       "  <thead>\n",
       "    <tr style=\"text-align: right;\">\n",
       "      <th></th>\n",
       "      <th>id</th>\n",
       "      <th>photo-url</th>\n",
       "      <th>date</th>\n",
       "      <th>tags</th>\n",
       "      <th>photo-type</th>\n",
       "    </tr>\n",
       "  </thead>\n",
       "  <tbody>\n",
       "    <tr>\n",
       "      <th>0</th>\n",
       "      <td>662815854023655425</td>\n",
       "      <td>https://64.media.tumblr.com/021eac8fbcafbb00a5...</td>\n",
       "      <td>Mon, 20 Sep 2021 06:00:56</td>\n",
       "      <td>[gif, lolcat, lolcats, cat, funny]</td>\n",
       "      <td>gif</td>\n",
       "    </tr>\n",
       "    <tr>\n",
       "      <th>1</th>\n",
       "      <td>662778109891952640</td>\n",
       "      <td>https://64.media.tumblr.com/8c0517adb8c71e4a3d...</td>\n",
       "      <td>Sun, 19 Sep 2021 20:01:00</td>\n",
       "      <td>[cat, cats, lol, lolcat, lolcats]</td>\n",
       "      <td>png</td>\n",
       "    </tr>\n",
       "    <tr>\n",
       "      <th>2</th>\n",
       "      <td>662657302700146688</td>\n",
       "      <td>https://64.media.tumblr.com/061d27cda309d5c809...</td>\n",
       "      <td>Sat, 18 Sep 2021 12:00:50</td>\n",
       "      <td>[cat, cats, lol, lolcat, lolcats]</td>\n",
       "      <td>jpg</td>\n",
       "    </tr>\n",
       "    <tr>\n",
       "      <th>3</th>\n",
       "      <td>662513901538246656</td>\n",
       "      <td>https://64.media.tumblr.com/80584a9d1ff4ddc4fc...</td>\n",
       "      <td>Thu, 16 Sep 2021 22:01:32</td>\n",
       "      <td>[cat, cats, lol, lolcat, lolcats]</td>\n",
       "      <td>png</td>\n",
       "    </tr>\n",
       "    <tr>\n",
       "      <th>4</th>\n",
       "      <td>662257177983090688</td>\n",
       "      <td>https://64.media.tumblr.com/893b320cd2e8970a20...</td>\n",
       "      <td>Tue, 14 Sep 2021 02:01:01</td>\n",
       "      <td>[cat, cats, lol, lolcat, lolcats]</td>\n",
       "      <td>jpg</td>\n",
       "    </tr>\n",
       "    <tr>\n",
       "      <th>5</th>\n",
       "      <td>662166591527698432</td>\n",
       "      <td>https://64.media.tumblr.com/c7f0a0a9184e480e15...</td>\n",
       "      <td>Mon, 13 Sep 2021 02:01:11</td>\n",
       "      <td>[cat, cats, lol, lolcat, lolcats]</td>\n",
       "      <td>jpg</td>\n",
       "    </tr>\n",
       "    <tr>\n",
       "      <th>6</th>\n",
       "      <td>662113740899090432</td>\n",
       "      <td>https://64.media.tumblr.com/07f7be7f71917a6049...</td>\n",
       "      <td>Sun, 12 Sep 2021 12:01:09</td>\n",
       "      <td>[cat, cats, lol, lolcat, lolcats]</td>\n",
       "      <td>jpg</td>\n",
       "    </tr>\n",
       "    <tr>\n",
       "      <th>7</th>\n",
       "      <td>661955166248026112</td>\n",
       "      <td>https://64.media.tumblr.com/205f030c48d31f8960...</td>\n",
       "      <td>Fri, 10 Sep 2021 18:00:40</td>\n",
       "      <td>[cat, cats, lol, lolcat, lolcats]</td>\n",
       "      <td>jpg</td>\n",
       "    </tr>\n",
       "    <tr>\n",
       "      <th>8</th>\n",
       "      <td>661894830378614784</td>\n",
       "      <td>https://64.media.tumblr.com/c463bff883fec2045b...</td>\n",
       "      <td>Fri, 10 Sep 2021 02:01:39</td>\n",
       "      <td>[cat, cats, lol, lolcat, lolcats]</td>\n",
       "      <td>png</td>\n",
       "    </tr>\n",
       "    <tr>\n",
       "      <th>9</th>\n",
       "      <td>661864596682964992</td>\n",
       "      <td>https://64.media.tumblr.com/b840ddb3aa2303206b...</td>\n",
       "      <td>Thu, 09 Sep 2021 18:01:06</td>\n",
       "      <td>[cat, cats, lol, lolcat, lolcats]</td>\n",
       "      <td>jpg</td>\n",
       "    </tr>\n",
       "    <tr>\n",
       "      <th>10</th>\n",
       "      <td>661826822696321024</td>\n",
       "      <td>https://64.media.tumblr.com/adc18e35b1844be41a...</td>\n",
       "      <td>Thu, 09 Sep 2021 08:00:42</td>\n",
       "      <td>[cat, cats, lol, lolcat, lolcats]</td>\n",
       "      <td>png</td>\n",
       "    </tr>\n",
       "    <tr>\n",
       "      <th>11</th>\n",
       "      <td>661804260632215552</td>\n",
       "      <td>https://64.media.tumblr.com/caae5b433ada6d6cb3...</td>\n",
       "      <td>Thu, 09 Sep 2021 02:02:05</td>\n",
       "      <td>[cat, cats, lol, lolcat, lolcats]</td>\n",
       "      <td>png</td>\n",
       "    </tr>\n",
       "    <tr>\n",
       "      <th>12</th>\n",
       "      <td>661766453508407296</td>\n",
       "      <td>https://64.media.tumblr.com/9d8cf92208aec32b93...</td>\n",
       "      <td>Wed, 08 Sep 2021 16:01:10</td>\n",
       "      <td>[cat, cats, lol, lolcat, lolcats]</td>\n",
       "      <td>jpg</td>\n",
       "    </tr>\n",
       "    <tr>\n",
       "      <th>13</th>\n",
       "      <td>661623017704685568</td>\n",
       "      <td>https://64.media.tumblr.com/4a5ae6732ab54227a4...</td>\n",
       "      <td>Tue, 07 Sep 2021 02:01:19</td>\n",
       "      <td>[cat, cats, lol, lolcat, lolcats]</td>\n",
       "      <td>jpg</td>\n",
       "    </tr>\n",
       "    <tr>\n",
       "      <th>14</th>\n",
       "      <td>661555057316298752</td>\n",
       "      <td>https://64.media.tumblr.com/c92a31829a6d88381e...</td>\n",
       "      <td>Mon, 06 Sep 2021 08:01:07</td>\n",
       "      <td>[cat, cats, lol, lolcat, lolcats]</td>\n",
       "      <td>jpg</td>\n",
       "    </tr>\n",
       "    <tr>\n",
       "      <th>15</th>\n",
       "      <td>661509804401065984</td>\n",
       "      <td>https://64.media.tumblr.com/2653be7b6e3a8efb9e...</td>\n",
       "      <td>Sun, 05 Sep 2021 20:01:50</td>\n",
       "      <td>[cat, cats, lol, lolcat, lolcats]</td>\n",
       "      <td>png</td>\n",
       "    </tr>\n",
       "    <tr>\n",
       "      <th>16</th>\n",
       "      <td>661411625970106368</td>\n",
       "      <td>https://64.media.tumblr.com/e508b4d0fcc083750b...</td>\n",
       "      <td>Sat, 04 Sep 2021 18:01:20</td>\n",
       "      <td>[cat, cats, lol, lolcat, lolcats]</td>\n",
       "      <td>jpg</td>\n",
       "    </tr>\n",
       "    <tr>\n",
       "      <th>17</th>\n",
       "      <td>661260621178945536</td>\n",
       "      <td>https://64.media.tumblr.com/28e64b8d19014a4c98...</td>\n",
       "      <td>Fri, 03 Sep 2021 02:01:10</td>\n",
       "      <td>[cat, cats, lol, lolcat, lolcats]</td>\n",
       "      <td>png</td>\n",
       "    </tr>\n",
       "    <tr>\n",
       "      <th>18</th>\n",
       "      <td>661177569862991872</td>\n",
       "      <td>https://64.media.tumblr.com/9ffadbe3e1d5fb20f8...</td>\n",
       "      <td>Thu, 02 Sep 2021 04:01:06</td>\n",
       "      <td>[cat, cats, lol, lolcat, lolcats]</td>\n",
       "      <td>png</td>\n",
       "    </tr>\n",
       "    <tr>\n",
       "      <th>19</th>\n",
       "      <td>661154964805140480</td>\n",
       "      <td>https://64.media.tumblr.com/27dce173c9e6cf3f05...</td>\n",
       "      <td>Wed, 01 Sep 2021 22:01:49</td>\n",
       "      <td>[cat, cats, lol, lolcat, lolcats]</td>\n",
       "      <td>jpg</td>\n",
       "    </tr>\n",
       "    <tr>\n",
       "      <th>20</th>\n",
       "      <td>660988818837651457</td>\n",
       "      <td>https://64.media.tumblr.com/02db958e8649c04d19...</td>\n",
       "      <td>Tue, 31 Aug 2021 02:00:59</td>\n",
       "      <td>[cat, cats, lol, lolcat, lolcats]</td>\n",
       "      <td>jpg</td>\n",
       "    </tr>\n",
       "    <tr>\n",
       "      <th>21</th>\n",
       "      <td>660935942249578496</td>\n",
       "      <td>https://64.media.tumblr.com/80b5d0f3c5636990b9...</td>\n",
       "      <td>Mon, 30 Aug 2021 12:00:32</td>\n",
       "      <td>[cat, cats, lol, lolcat, lolcats]</td>\n",
       "      <td>jpg</td>\n",
       "    </tr>\n",
       "    <tr>\n",
       "      <th>22</th>\n",
       "      <td>660905765646843905</td>\n",
       "      <td>https://64.media.tumblr.com/a2eb4c91986a0c1e23...</td>\n",
       "      <td>Mon, 30 Aug 2021 04:00:54</td>\n",
       "      <td>[cat, cats, lol, lolcat, lolcats]</td>\n",
       "      <td>jpg</td>\n",
       "    </tr>\n",
       "    <tr>\n",
       "      <th>23</th>\n",
       "      <td>660898202755661824</td>\n",
       "      <td>https://64.media.tumblr.com/061d27cda309d5c809...</td>\n",
       "      <td>Mon, 30 Aug 2021 02:00:41</td>\n",
       "      <td>[cat, cats, lol, lolcat, lolcats]</td>\n",
       "      <td>jpg</td>\n",
       "    </tr>\n",
       "    <tr>\n",
       "      <th>24</th>\n",
       "      <td>660883122996576256</td>\n",
       "      <td>https://64.media.tumblr.com/2d1137cbf0dbe21d8b...</td>\n",
       "      <td>Sun, 29 Aug 2021 22:01:00</td>\n",
       "      <td>[cat, cats, lol, lolcat, lolcats]</td>\n",
       "      <td>png</td>\n",
       "    </tr>\n",
       "    <tr>\n",
       "      <th>25</th>\n",
       "      <td>660732105459924992</td>\n",
       "      <td>https://64.media.tumblr.com/cccbbc09b009b581a9...</td>\n",
       "      <td>Sat, 28 Aug 2021 06:00:38</td>\n",
       "      <td>[cat, cats, lol, lolcat, lolcats]</td>\n",
       "      <td>jpg</td>\n",
       "    </tr>\n",
       "    <tr>\n",
       "      <th>26</th>\n",
       "      <td>660475424163364864</td>\n",
       "      <td>https://64.media.tumblr.com/9d700e79b1615fac2f...</td>\n",
       "      <td>Wed, 25 Aug 2021 10:00:48</td>\n",
       "      <td>[cat, cats, lol, lolcat, lolcats]</td>\n",
       "      <td>jpg</td>\n",
       "    </tr>\n",
       "    <tr>\n",
       "      <th>27</th>\n",
       "      <td>660324431590277120</td>\n",
       "      <td>https://64.media.tumblr.com/7cc2c0f675bc099be4...</td>\n",
       "      <td>Mon, 23 Aug 2021 18:00:50</td>\n",
       "      <td>[cat, cats, lol, lolcat, lolcats]</td>\n",
       "      <td>png</td>\n",
       "    </tr>\n",
       "    <tr>\n",
       "      <th>28</th>\n",
       "      <td>660196106964221952</td>\n",
       "      <td>https://64.media.tumblr.com/c024195387a46a6f77...</td>\n",
       "      <td>Sun, 22 Aug 2021 08:01:10</td>\n",
       "      <td>[cat, cats, lol, lolcat, lolcats]</td>\n",
       "      <td>png</td>\n",
       "    </tr>\n",
       "    <tr>\n",
       "      <th>29</th>\n",
       "      <td>660143257603506176</td>\n",
       "      <td>https://64.media.tumblr.com/fdf46563a9b09ec147...</td>\n",
       "      <td>Sat, 21 Aug 2021 18:01:09</td>\n",
       "      <td>[cat, cats, lol, lolcat, lolcats]</td>\n",
       "      <td>jpg</td>\n",
       "    </tr>\n",
       "    <tr>\n",
       "      <th>30</th>\n",
       "      <td>660060193333346304</td>\n",
       "      <td>https://64.media.tumblr.com/4183c34ae67f92f290...</td>\n",
       "      <td>Fri, 20 Aug 2021 20:00:53</td>\n",
       "      <td>[cat, cats, lol, lolcat, lolcats]</td>\n",
       "      <td>jpg</td>\n",
       "    </tr>\n",
       "    <tr>\n",
       "      <th>31</th>\n",
       "      <td>659743087466332160</td>\n",
       "      <td>https://64.media.tumblr.com/01c63fcc1d5fc2e0e0...</td>\n",
       "      <td>Tue, 17 Aug 2021 08:00:37</td>\n",
       "      <td>[cat, cats, lol, lolcat, lolcats]</td>\n",
       "      <td>png</td>\n",
       "    </tr>\n",
       "    <tr>\n",
       "      <th>32</th>\n",
       "      <td>659705393411391488</td>\n",
       "      <td>https://64.media.tumblr.com/42a1477d18728fb088...</td>\n",
       "      <td>Mon, 16 Aug 2021 22:01:30</td>\n",
       "      <td>[cat, cats, lol, lolcat, lolcats]</td>\n",
       "      <td>png</td>\n",
       "    </tr>\n",
       "    <tr>\n",
       "      <th>33</th>\n",
       "      <td>659660051218317312</td>\n",
       "      <td>https://64.media.tumblr.com/a4392b133ed186fad8...</td>\n",
       "      <td>Mon, 16 Aug 2021 10:00:48</td>\n",
       "      <td>[cat, cats, lol, lolcat, lolcats]</td>\n",
       "      <td>jpg</td>\n",
       "    </tr>\n",
       "    <tr>\n",
       "      <th>34</th>\n",
       "      <td>659539266591981568</td>\n",
       "      <td>https://64.media.tumblr.com/9024bc51ad17d40b80...</td>\n",
       "      <td>Sun, 15 Aug 2021 02:00:59</td>\n",
       "      <td>[cat, cats, lol, lolcat, lolcats]</td>\n",
       "      <td>jpg</td>\n",
       "    </tr>\n",
       "    <tr>\n",
       "      <th>35</th>\n",
       "      <td>659509078641557504</td>\n",
       "      <td>https://64.media.tumblr.com/12afb1b79928488a1a...</td>\n",
       "      <td>Sat, 14 Aug 2021 18:01:09</td>\n",
       "      <td>[cat, cats, lol, lolcat, lolcats]</td>\n",
       "      <td>png</td>\n",
       "    </tr>\n",
       "    <tr>\n",
       "      <th>36</th>\n",
       "      <td>659342999892967424</td>\n",
       "      <td>https://64.media.tumblr.com/29a90b59498d9ae55f...</td>\n",
       "      <td>Thu, 12 Aug 2021 22:01:24</td>\n",
       "      <td>[cat, cats, lol, lolcat, lolcats]</td>\n",
       "      <td>jpg</td>\n",
       "    </tr>\n",
       "    <tr>\n",
       "      <th>37</th>\n",
       "      <td>659108907014356992</td>\n",
       "      <td>https://64.media.tumblr.com/7a11be8b9524535da2...</td>\n",
       "      <td>Tue, 10 Aug 2021 08:00:36</td>\n",
       "      <td>[cat, cats, lol, lolcat, lolcats]</td>\n",
       "      <td>jpg</td>\n",
       "    </tr>\n",
       "    <tr>\n",
       "      <th>38</th>\n",
       "      <td>658867320238850049</td>\n",
       "      <td>https://64.media.tumblr.com/bf7efc7edad65675ad...</td>\n",
       "      <td>Sat, 07 Aug 2021 16:00:41</td>\n",
       "      <td>[cat, cats, lol, lolcat, lolcats]</td>\n",
       "      <td>jpg</td>\n",
       "    </tr>\n",
       "    <tr>\n",
       "      <th>39</th>\n",
       "      <td>658844675622453248</td>\n",
       "      <td>https://64.media.tumblr.com/c2b58415fe3fed86a2...</td>\n",
       "      <td>Sat, 07 Aug 2021 10:00:45</td>\n",
       "      <td>[cat, cats, lol, lolcat, lolcats]</td>\n",
       "      <td>jpg</td>\n",
       "    </tr>\n",
       "    <tr>\n",
       "      <th>40</th>\n",
       "      <td>658814510935769088</td>\n",
       "      <td>https://64.media.tumblr.com/d70155b2bdd5763cca...</td>\n",
       "      <td>Sat, 07 Aug 2021 02:01:18</td>\n",
       "      <td>[cat, cats, lol, lolcat, lolcats]</td>\n",
       "      <td>jpg</td>\n",
       "    </tr>\n",
       "    <tr>\n",
       "      <th>41</th>\n",
       "      <td>658338845753999360</td>\n",
       "      <td>https://64.media.tumblr.com/1fca341b03f832d679...</td>\n",
       "      <td>Sun, 01 Aug 2021 20:00:48</td>\n",
       "      <td>[cat, cats, lol, lolcat, lolcats]</td>\n",
       "      <td>png</td>\n",
       "    </tr>\n",
       "    <tr>\n",
       "      <th>42</th>\n",
       "      <td>658225598089609217</td>\n",
       "      <td>https://64.media.tumblr.com/07aad399cc881a2399...</td>\n",
       "      <td>Sat, 31 Jul 2021 14:00:47</td>\n",
       "      <td>[cat, cats, lol, lolcat, lolcats]</td>\n",
       "      <td>jpg</td>\n",
       "    </tr>\n",
       "    <tr>\n",
       "      <th>43</th>\n",
       "      <td>658210575863742464</td>\n",
       "      <td>https://64.media.tumblr.com/d5b0639155ee97c854...</td>\n",
       "      <td>Sat, 31 Jul 2021 10:02:00</td>\n",
       "      <td>[cat, cats, lol, lolcat, lolcats]</td>\n",
       "      <td>jpg</td>\n",
       "    </tr>\n",
       "    <tr>\n",
       "      <th>44</th>\n",
       "      <td>658165190497583104</td>\n",
       "      <td>https://64.media.tumblr.com/ea6ad0eae613c5f60f...</td>\n",
       "      <td>Fri, 30 Jul 2021 22:00:38</td>\n",
       "      <td>[gif, lolcat, lolcats, cat, funny]</td>\n",
       "      <td>gif</td>\n",
       "    </tr>\n",
       "    <tr>\n",
       "      <th>45</th>\n",
       "      <td>657946256220536832</td>\n",
       "      <td>https://64.media.tumblr.com/16cf3a5e394112f7d0...</td>\n",
       "      <td>Wed, 28 Jul 2021 12:00:46</td>\n",
       "      <td>[cat, cats, lol, lolcat, lolcats]</td>\n",
       "      <td>jpg</td>\n",
       "    </tr>\n",
       "    <tr>\n",
       "      <th>46</th>\n",
       "      <td>657931173576704000</td>\n",
       "      <td>https://64.media.tumblr.com/2b7dfb6b1677079a45...</td>\n",
       "      <td>Wed, 28 Jul 2021 08:01:02</td>\n",
       "      <td>[cat, cats, lol, lolcat, lolcats]</td>\n",
       "      <td>jpg</td>\n",
       "    </tr>\n",
       "    <tr>\n",
       "      <th>47</th>\n",
       "      <td>657312093673078784</td>\n",
       "      <td>https://64.media.tumblr.com/17fe9380eed8516e45...</td>\n",
       "      <td>Wed, 21 Jul 2021 12:01:01</td>\n",
       "      <td>[cat, cats, lol, lolcat, lolcats]</td>\n",
       "      <td>png</td>\n",
       "    </tr>\n",
       "    <tr>\n",
       "      <th>48</th>\n",
       "      <td>656677912834195456</td>\n",
       "      <td>https://64.media.tumblr.com/7c4e668dc5eb0e89ed...</td>\n",
       "      <td>Wed, 14 Jul 2021 12:00:59</td>\n",
       "      <td>[cat, cats, lol, lolcat, lolcats]</td>\n",
       "      <td>jpg</td>\n",
       "    </tr>\n",
       "    <tr>\n",
       "      <th>49</th>\n",
       "      <td>656647679801212928</td>\n",
       "      <td>https://64.media.tumblr.com/f411261fd1e6911697...</td>\n",
       "      <td>Wed, 14 Jul 2021 04:00:27</td>\n",
       "      <td>[cat, cats, lol, lolcat, lolcats]</td>\n",
       "      <td>jpg</td>\n",
       "    </tr>\n",
       "  </tbody>\n",
       "</table>\n",
       "</div>"
      ],
      "text/plain": [
       "                    id                                          photo-url  \\\n",
       "0   662815854023655425  https://64.media.tumblr.com/021eac8fbcafbb00a5...   \n",
       "1   662778109891952640  https://64.media.tumblr.com/8c0517adb8c71e4a3d...   \n",
       "2   662657302700146688  https://64.media.tumblr.com/061d27cda309d5c809...   \n",
       "3   662513901538246656  https://64.media.tumblr.com/80584a9d1ff4ddc4fc...   \n",
       "4   662257177983090688  https://64.media.tumblr.com/893b320cd2e8970a20...   \n",
       "5   662166591527698432  https://64.media.tumblr.com/c7f0a0a9184e480e15...   \n",
       "6   662113740899090432  https://64.media.tumblr.com/07f7be7f71917a6049...   \n",
       "7   661955166248026112  https://64.media.tumblr.com/205f030c48d31f8960...   \n",
       "8   661894830378614784  https://64.media.tumblr.com/c463bff883fec2045b...   \n",
       "9   661864596682964992  https://64.media.tumblr.com/b840ddb3aa2303206b...   \n",
       "10  661826822696321024  https://64.media.tumblr.com/adc18e35b1844be41a...   \n",
       "11  661804260632215552  https://64.media.tumblr.com/caae5b433ada6d6cb3...   \n",
       "12  661766453508407296  https://64.media.tumblr.com/9d8cf92208aec32b93...   \n",
       "13  661623017704685568  https://64.media.tumblr.com/4a5ae6732ab54227a4...   \n",
       "14  661555057316298752  https://64.media.tumblr.com/c92a31829a6d88381e...   \n",
       "15  661509804401065984  https://64.media.tumblr.com/2653be7b6e3a8efb9e...   \n",
       "16  661411625970106368  https://64.media.tumblr.com/e508b4d0fcc083750b...   \n",
       "17  661260621178945536  https://64.media.tumblr.com/28e64b8d19014a4c98...   \n",
       "18  661177569862991872  https://64.media.tumblr.com/9ffadbe3e1d5fb20f8...   \n",
       "19  661154964805140480  https://64.media.tumblr.com/27dce173c9e6cf3f05...   \n",
       "20  660988818837651457  https://64.media.tumblr.com/02db958e8649c04d19...   \n",
       "21  660935942249578496  https://64.media.tumblr.com/80b5d0f3c5636990b9...   \n",
       "22  660905765646843905  https://64.media.tumblr.com/a2eb4c91986a0c1e23...   \n",
       "23  660898202755661824  https://64.media.tumblr.com/061d27cda309d5c809...   \n",
       "24  660883122996576256  https://64.media.tumblr.com/2d1137cbf0dbe21d8b...   \n",
       "25  660732105459924992  https://64.media.tumblr.com/cccbbc09b009b581a9...   \n",
       "26  660475424163364864  https://64.media.tumblr.com/9d700e79b1615fac2f...   \n",
       "27  660324431590277120  https://64.media.tumblr.com/7cc2c0f675bc099be4...   \n",
       "28  660196106964221952  https://64.media.tumblr.com/c024195387a46a6f77...   \n",
       "29  660143257603506176  https://64.media.tumblr.com/fdf46563a9b09ec147...   \n",
       "30  660060193333346304  https://64.media.tumblr.com/4183c34ae67f92f290...   \n",
       "31  659743087466332160  https://64.media.tumblr.com/01c63fcc1d5fc2e0e0...   \n",
       "32  659705393411391488  https://64.media.tumblr.com/42a1477d18728fb088...   \n",
       "33  659660051218317312  https://64.media.tumblr.com/a4392b133ed186fad8...   \n",
       "34  659539266591981568  https://64.media.tumblr.com/9024bc51ad17d40b80...   \n",
       "35  659509078641557504  https://64.media.tumblr.com/12afb1b79928488a1a...   \n",
       "36  659342999892967424  https://64.media.tumblr.com/29a90b59498d9ae55f...   \n",
       "37  659108907014356992  https://64.media.tumblr.com/7a11be8b9524535da2...   \n",
       "38  658867320238850049  https://64.media.tumblr.com/bf7efc7edad65675ad...   \n",
       "39  658844675622453248  https://64.media.tumblr.com/c2b58415fe3fed86a2...   \n",
       "40  658814510935769088  https://64.media.tumblr.com/d70155b2bdd5763cca...   \n",
       "41  658338845753999360  https://64.media.tumblr.com/1fca341b03f832d679...   \n",
       "42  658225598089609217  https://64.media.tumblr.com/07aad399cc881a2399...   \n",
       "43  658210575863742464  https://64.media.tumblr.com/d5b0639155ee97c854...   \n",
       "44  658165190497583104  https://64.media.tumblr.com/ea6ad0eae613c5f60f...   \n",
       "45  657946256220536832  https://64.media.tumblr.com/16cf3a5e394112f7d0...   \n",
       "46  657931173576704000  https://64.media.tumblr.com/2b7dfb6b1677079a45...   \n",
       "47  657312093673078784  https://64.media.tumblr.com/17fe9380eed8516e45...   \n",
       "48  656677912834195456  https://64.media.tumblr.com/7c4e668dc5eb0e89ed...   \n",
       "49  656647679801212928  https://64.media.tumblr.com/f411261fd1e6911697...   \n",
       "\n",
       "                         date                                tags photo-type  \n",
       "0   Mon, 20 Sep 2021 06:00:56  [gif, lolcat, lolcats, cat, funny]        gif  \n",
       "1   Sun, 19 Sep 2021 20:01:00   [cat, cats, lol, lolcat, lolcats]        png  \n",
       "2   Sat, 18 Sep 2021 12:00:50   [cat, cats, lol, lolcat, lolcats]        jpg  \n",
       "3   Thu, 16 Sep 2021 22:01:32   [cat, cats, lol, lolcat, lolcats]        png  \n",
       "4   Tue, 14 Sep 2021 02:01:01   [cat, cats, lol, lolcat, lolcats]        jpg  \n",
       "5   Mon, 13 Sep 2021 02:01:11   [cat, cats, lol, lolcat, lolcats]        jpg  \n",
       "6   Sun, 12 Sep 2021 12:01:09   [cat, cats, lol, lolcat, lolcats]        jpg  \n",
       "7   Fri, 10 Sep 2021 18:00:40   [cat, cats, lol, lolcat, lolcats]        jpg  \n",
       "8   Fri, 10 Sep 2021 02:01:39   [cat, cats, lol, lolcat, lolcats]        png  \n",
       "9   Thu, 09 Sep 2021 18:01:06   [cat, cats, lol, lolcat, lolcats]        jpg  \n",
       "10  Thu, 09 Sep 2021 08:00:42   [cat, cats, lol, lolcat, lolcats]        png  \n",
       "11  Thu, 09 Sep 2021 02:02:05   [cat, cats, lol, lolcat, lolcats]        png  \n",
       "12  Wed, 08 Sep 2021 16:01:10   [cat, cats, lol, lolcat, lolcats]        jpg  \n",
       "13  Tue, 07 Sep 2021 02:01:19   [cat, cats, lol, lolcat, lolcats]        jpg  \n",
       "14  Mon, 06 Sep 2021 08:01:07   [cat, cats, lol, lolcat, lolcats]        jpg  \n",
       "15  Sun, 05 Sep 2021 20:01:50   [cat, cats, lol, lolcat, lolcats]        png  \n",
       "16  Sat, 04 Sep 2021 18:01:20   [cat, cats, lol, lolcat, lolcats]        jpg  \n",
       "17  Fri, 03 Sep 2021 02:01:10   [cat, cats, lol, lolcat, lolcats]        png  \n",
       "18  Thu, 02 Sep 2021 04:01:06   [cat, cats, lol, lolcat, lolcats]        png  \n",
       "19  Wed, 01 Sep 2021 22:01:49   [cat, cats, lol, lolcat, lolcats]        jpg  \n",
       "20  Tue, 31 Aug 2021 02:00:59   [cat, cats, lol, lolcat, lolcats]        jpg  \n",
       "21  Mon, 30 Aug 2021 12:00:32   [cat, cats, lol, lolcat, lolcats]        jpg  \n",
       "22  Mon, 30 Aug 2021 04:00:54   [cat, cats, lol, lolcat, lolcats]        jpg  \n",
       "23  Mon, 30 Aug 2021 02:00:41   [cat, cats, lol, lolcat, lolcats]        jpg  \n",
       "24  Sun, 29 Aug 2021 22:01:00   [cat, cats, lol, lolcat, lolcats]        png  \n",
       "25  Sat, 28 Aug 2021 06:00:38   [cat, cats, lol, lolcat, lolcats]        jpg  \n",
       "26  Wed, 25 Aug 2021 10:00:48   [cat, cats, lol, lolcat, lolcats]        jpg  \n",
       "27  Mon, 23 Aug 2021 18:00:50   [cat, cats, lol, lolcat, lolcats]        png  \n",
       "28  Sun, 22 Aug 2021 08:01:10   [cat, cats, lol, lolcat, lolcats]        png  \n",
       "29  Sat, 21 Aug 2021 18:01:09   [cat, cats, lol, lolcat, lolcats]        jpg  \n",
       "30  Fri, 20 Aug 2021 20:00:53   [cat, cats, lol, lolcat, lolcats]        jpg  \n",
       "31  Tue, 17 Aug 2021 08:00:37   [cat, cats, lol, lolcat, lolcats]        png  \n",
       "32  Mon, 16 Aug 2021 22:01:30   [cat, cats, lol, lolcat, lolcats]        png  \n",
       "33  Mon, 16 Aug 2021 10:00:48   [cat, cats, lol, lolcat, lolcats]        jpg  \n",
       "34  Sun, 15 Aug 2021 02:00:59   [cat, cats, lol, lolcat, lolcats]        jpg  \n",
       "35  Sat, 14 Aug 2021 18:01:09   [cat, cats, lol, lolcat, lolcats]        png  \n",
       "36  Thu, 12 Aug 2021 22:01:24   [cat, cats, lol, lolcat, lolcats]        jpg  \n",
       "37  Tue, 10 Aug 2021 08:00:36   [cat, cats, lol, lolcat, lolcats]        jpg  \n",
       "38  Sat, 07 Aug 2021 16:00:41   [cat, cats, lol, lolcat, lolcats]        jpg  \n",
       "39  Sat, 07 Aug 2021 10:00:45   [cat, cats, lol, lolcat, lolcats]        jpg  \n",
       "40  Sat, 07 Aug 2021 02:01:18   [cat, cats, lol, lolcat, lolcats]        jpg  \n",
       "41  Sun, 01 Aug 2021 20:00:48   [cat, cats, lol, lolcat, lolcats]        png  \n",
       "42  Sat, 31 Jul 2021 14:00:47   [cat, cats, lol, lolcat, lolcats]        jpg  \n",
       "43  Sat, 31 Jul 2021 10:02:00   [cat, cats, lol, lolcat, lolcats]        jpg  \n",
       "44  Fri, 30 Jul 2021 22:00:38  [gif, lolcat, lolcats, cat, funny]        gif  \n",
       "45  Wed, 28 Jul 2021 12:00:46   [cat, cats, lol, lolcat, lolcats]        jpg  \n",
       "46  Wed, 28 Jul 2021 08:01:02   [cat, cats, lol, lolcat, lolcats]        jpg  \n",
       "47  Wed, 21 Jul 2021 12:01:01   [cat, cats, lol, lolcat, lolcats]        png  \n",
       "48  Wed, 14 Jul 2021 12:00:59   [cat, cats, lol, lolcat, lolcats]        jpg  \n",
       "49  Wed, 14 Jul 2021 04:00:27   [cat, cats, lol, lolcat, lolcats]        jpg  "
      ]
     },
     "execution_count": 84,
     "metadata": {},
     "output_type": "execute_result"
    }
   ],
   "source": [
    "#Putting a max in case the blog has millions of images\n",
    "#The given max will be rounded up to the nearest multiple of 50\n",
    "def tumblrImageScrape(blogName, maxImages = 200):\n",
    "    #Restating this here so the function isn't dependent on any external variables\n",
    "    tumblrAPItarget = 'http://{}.tumblr.com/api/read/json'\n",
    "\n",
    "    #There are a bunch of possible locations for the photo url\n",
    "    possiblePhotoSuffixes = [1280, 500, 400, 250, 100]\n",
    "\n",
    "    #These are the pieces of information we will be gathering,\n",
    "    #at the end we will convert this to a DataFrame.\n",
    "    #There are a few other datums we could gather like the captions\n",
    "    #you can read the Tumblr documentation to learn how to get them\n",
    "    #https://www.tumblr.com/docs/en/api/v1\n",
    "    postsData = {\n",
    "        'id' : [],\n",
    "        'photo-url' : [],\n",
    "        'date' : [],\n",
    "        'tags' : [],\n",
    "        'photo-type' : []\n",
    "    }\n",
    "\n",
    "    #Tumblr limits us to a max of 50 posts per request\n",
    "    for requestNum in range(maxImages // 50):\n",
    "        requestParams = {\n",
    "            'start' : requestNum * 50,\n",
    "            'num' : 50,\n",
    "            'type' : 'photo'\n",
    "        }\n",
    "        r = requests.get(tumblrAPItarget.format(blogName), params = requestParams)\n",
    "        requestDict = json.loads(r.text[len('var tumblr_api_read = '):-2])\n",
    "        for postDict in requestDict['posts']:\n",
    "            #We are dealing with uncleaned data, we can't trust it.\n",
    "            #Specifically, not all posts are guaranteed to have the fields we want\n",
    "            try:\n",
    "                postsData['id'].append(postDict['id'])\n",
    "                postsData['date'].append(postDict['date'])\n",
    "                postsData['tags'].append(postDict['tags'])\n",
    "            except KeyError as e:\n",
    "                raise KeyError(\"Post {} from {} is missing: {}\".format(postDict['id'], blogName, e))\n",
    "\n",
    "            foundSuffix = False\n",
    "            for suffix in possiblePhotoSuffixes:\n",
    "                try:\n",
    "                    photoURL = postDict['photo-url-{}'.format(suffix)]\n",
    "                    postsData['photo-url'].append(photoURL)\n",
    "                    postsData['photo-type'].append(photoURL.split('.')[-1])\n",
    "                    foundSuffix = True\n",
    "                    break\n",
    "                except KeyError:\n",
    "                    pass\n",
    "            if not foundSuffix:\n",
    "                #Make sure your error messages are useful\n",
    "                #You will be one of the users\n",
    "                raise KeyError(\"Post {} from {} is missing a photo url\".format(postDict['id'], blogName))\n",
    "\n",
    "    return pandas.DataFrame(postsData)\n",
    "tumblrImageScrape('lolcats-lol-cat', 50)"
   ]
  },
  {
   "cell_type": "markdown",
   "metadata": {
    "id": "CswLIJBZOmbH"
   },
   "source": [
    "Now we have the urls of a bunch of images and can run OCR on them to gather\n",
    "compelling meme narratives, accompanied by cats.\n",
    "\n",
    "# Files\n",
    "\n",
    "What if the text we want isn't on a webpage? There are a many other sources of\n",
    "text available, typically organized into *files*.\n",
    "\n",
    "## Raw text (and encoding)\n",
    "\n",
    "The most basic form of storing text is as a _raw text_ document. Source code\n",
    "(`.py`, `.r`, etc) is usually raw text as are text files (`.txt`) and those with\n",
    "many other extension (e.g., .csv, .dat, etc.). Opening an unknown file with a\n",
    "text editor is often a great way of learning what the file is.\n",
    "\n",
    "We can create a text file in python with the `open()` function"
   ]
  },
  {
   "cell_type": "code",
   "execution_count": 256,
   "metadata": {
    "id": "iqMbyp3oOmbH"
   },
   "outputs": [],
   "source": [
    "#example_text_file = 'sometextfile.txt'\n",
    "#stringToWrite = 'A line\\nAnother line\\nA line with a few unusual symbols \\u2421 \\u241B \\u20A0 \\u20A1 \\u20A2 \\u20A3 \\u0D60\\n'\n",
    "stringToWrite = 'A line\\nAnother line\\nA line with a few unusual symbols ␡ ␛ ₠ ₡ ₢ ₣ ൠ\\n'\n",
    "\n",
    "with open(example_text_file, mode = 'w', encoding='utf-8') as f:\n",
    "    f.write(stringToWrite)"
   ]
  },
  {
   "cell_type": "markdown",
   "metadata": {
    "id": "9ezVCruFOmbH"
   },
   "source": [
    "Notice the `encoding='utf-8'` argument, which specifies how we map the bits from\n",
    "the file to the glyphs (and whitespace characters like tab (`'\\t'`) or newline\n",
    "(`'\\n'`)) on the screen. When dealing only with latin letters, arabic numerals\n",
    "and the other symbols on America keyboards you usually do not have to worry\n",
    "about encodings as the ones used today are backwards compatible with\n",
    "[ASCII](https://en.wikipedia.org/wiki/ASCII), which gives the binary\n",
    "representation of 128 characters.\n",
    "\n",
    "Some of you, however, will want to use other characters (e.g., Chinese\n",
    "characters). To solve this there is\n",
    "[Unicode](https://en.wikipedia.org/wiki/Unicode) which assigns numbers to\n",
    "symbols, e.g., 041 is `'A'` and 03A3 is `'Σ'` (numbers starting with 0 are\n",
    "hexadecimal). Often non/beyond-ASCII characters are called Unicode characters.\n",
    "Unicode contains 1,114,112 characters, about 10\\% of which have been assigned.\n",
    "Unfortunately there are many ways used to map combinations of bits to Unicode\n",
    "symbols. The ones you are likely to encounter are called by Python _utf-8_,\n",
    "_utf-16_ and _latin-1_. _utf-8_ is the standard for Linux and Mac OS while both\n",
    "_utf-16_ and _latin-1_ are used by windows. If you use the wrong encoding,\n",
    "characters can appear wrong, sometimes change in number or Python could raise an\n",
    "exception. Lets see what happens when we open the file we just created with\n",
    "different encodings."
   ]
  },
  {
   "cell_type": "code",
   "execution_count": 257,
   "metadata": {
    "id": "FNSzFZkUOmbI"
   },
   "outputs": [
    {
     "name": "stdout",
     "output_type": "stream",
     "text": [
      "This is with the correct encoding:\n",
      "A line\n",
      "Another line\n",
      "A line with a few unusual symbols ␡ ␛ ₠ ₡ ₢ ₣ ൠ\n",
      "\n",
      "This is with the wrong encoding:\n",
      "A line\n",
      "Another line\n",
      "A line with a few unusual symbols â¡ â â  â¡ â¢ â£ àµ \n",
      "\n"
     ]
    }
   ],
   "source": [
    "with open(example_text_file, encoding='utf-8') as f:\n",
    "    print(\"This is with the correct encoding:\")\n",
    "    print(f.read())\n",
    "\n",
    "with open(example_text_file, encoding='latin-1') as f:\n",
    "    print(\"This is with the wrong encoding:\")\n",
    "    print(f.read())"
   ]
  },
  {
   "cell_type": "markdown",
   "metadata": {
    "id": "bw8ytOqgOmbI"
   },
   "source": [
    "Notice that with _latin-1_ the unicode characters are mixed up and there are too\n",
    "many of them. You need to keep in mind encoding when obtaining text files.\n",
    "Determining the encoding can sometime involve substantial work."
   ]
  },
  {
   "cell_type": "markdown",
   "metadata": {
    "id": "bbfdy4vGOmbI"
   },
   "source": [
    "We can also load many text files at once. Lets start by looking at the Shakespeare files in the `data` directory "
   ]
  },
  {
   "cell_type": "code",
   "execution_count": 258,
   "metadata": {
    "id": "sjLJ-XecOmbI"
   },
   "outputs": [
    {
     "ename": "FileNotFoundError",
     "evalue": "[Errno 2] No such file or directory: './data/Shakespeare/midsummer_nights_dream.txt'",
     "output_type": "error",
     "traceback": [
      "\u001b[1;31m---------------------------------------------------------------------------\u001b[0m",
      "\u001b[1;31mFileNotFoundError\u001b[0m                         Traceback (most recent call last)",
      "\u001b[1;32m~\\AppData\\Local\\Temp/ipykernel_23712/3101051724.py\u001b[0m in \u001b[0;36m<module>\u001b[1;34m\u001b[0m\n\u001b[1;32m----> 1\u001b[1;33m \u001b[1;32mwith\u001b[0m \u001b[0mopen\u001b[0m\u001b[1;33m(\u001b[0m\u001b[1;34m'./data/Shakespeare/midsummer_nights_dream.txt'\u001b[0m\u001b[1;33m)\u001b[0m \u001b[1;32mas\u001b[0m \u001b[0mf\u001b[0m\u001b[1;33m:\u001b[0m\u001b[1;33m\u001b[0m\u001b[1;33m\u001b[0m\u001b[0m\n\u001b[0m\u001b[0;32m      2\u001b[0m     \u001b[0mmidsummer\u001b[0m \u001b[1;33m=\u001b[0m \u001b[0mf\u001b[0m\u001b[1;33m.\u001b[0m\u001b[0mread\u001b[0m\u001b[1;33m(\u001b[0m\u001b[1;33m)\u001b[0m\u001b[1;33m\u001b[0m\u001b[1;33m\u001b[0m\u001b[0m\n\u001b[0;32m      3\u001b[0m \u001b[0mprint\u001b[0m\u001b[1;33m(\u001b[0m\u001b[0mmidsummer\u001b[0m\u001b[1;33m[\u001b[0m\u001b[1;33m-\u001b[0m\u001b[1;36m700\u001b[0m\u001b[1;33m:\u001b[0m\u001b[1;33m]\u001b[0m\u001b[1;33m)\u001b[0m\u001b[1;33m\u001b[0m\u001b[1;33m\u001b[0m\u001b[0m\n",
      "\u001b[1;31mFileNotFoundError\u001b[0m: [Errno 2] No such file or directory: './data/Shakespeare/midsummer_nights_dream.txt'"
     ]
    }
   ],
   "source": [
    "with open('./data/Shakespeare/midsummer_nights_dream.txt') as f:\n",
    "    midsummer = f.read()\n",
    "print(midsummer[-700:])"
   ]
  },
  {
   "cell_type": "markdown",
   "metadata": {
    "id": "mRXmq-UaOmbI"
   },
   "source": [
    "By the way, depending on your working directory, you might get errors such as: [Errno 2] No such file or directory: '../data/Shakespeare/midsummer_nights_dream.txt.' Don't panic, it's nothing, just check your working directory. \n",
    "\n",
    "Then to load all the files in `./data/Shakespeare` we can use a for loop with `scandir`:"
   ]
  },
  {
   "cell_type": "code",
   "execution_count": null,
   "metadata": {
    "id": "21UaeDenOmbJ"
   },
   "outputs": [],
   "source": [
    "targetDir = './data/Shakespeare' #Change this to your own directory of texts\n",
    "shakespearText = []\n",
    "shakespearFileName = []\n",
    "\n",
    "for file in (file for file in os.scandir(targetDir) if file.is_file() and not file.name.startswith('.')):\n",
    "    with open(file.path, encoding=\"utf-8\") as f:\n",
    "        shakespearText.append(f.read())\n",
    "    shakespearFileName.append(file.name)"
   ]
  },
  {
   "cell_type": "markdown",
   "metadata": {
    "id": "BWWr9-tcOmbJ"
   },
   "source": [
    "Then we can put them all in pandas DataFrame"
   ]
  },
  {
   "cell_type": "code",
   "execution_count": null,
   "metadata": {
    "id": "Knvif7JmOmbJ"
   },
   "outputs": [],
   "source": [
    "shakespear_df = pandas.DataFrame({'text' : shakespearText}, index = shakespearFileName)\n",
    "shakespear_df"
   ]
  },
  {
   "cell_type": "markdown",
   "metadata": {
    "id": "CWKhyCfCOmbJ"
   },
   "source": [
    "Getting your text in a format like this is the first step of most analysis"
   ]
  },
  {
   "cell_type": "markdown",
   "metadata": {
    "id": "V9T2gL7UOmbJ"
   },
   "source": [
    "## PDF\n",
    "\n",
    "Another common way text will be stored is in a PDF file. First we will download\n",
    "a pdf in Python. To do that lets grab a chapter from\n",
    "_Speech and Language Processing_, chapter 21 is on Information Extraction which\n",
    "seems apt. It is stored as a pdf at [https://web.stanford.edu/~jurafsky/slp3/21.\n",
    "pdf](https://web.stanford.edu/~jurafsky/slp3/21.pdf) although we are downloading\n",
    "from a copy just in case Jurafsky changes their website."
   ]
  },
  {
   "cell_type": "code",
   "execution_count": 259,
   "metadata": {
    "id": "zv1NpgUkOmbJ"
   },
   "outputs": [
    {
     "name": "stdout",
     "output_type": "stream",
     "text": [
      "%PDF-1.3\n",
      "%���������\n",
      "4 0 obj\n",
      "<< /Length 5 0 R /Filter /FlateDecode >>\n",
      "stream\n",
      "x\u0001�]۶�F�}�W�c����T���\u0017C\u000f�i�\u0019<t\u001f�b\u0001\u000fM�f\n",
      "Tn�\u0006<3_�\u000b",
      "�CDf�\u001d",
      "�J�N�i�\u000f�#�%.;.\u0019���\t?\u000f߄��7�]8������ux��}\u001b޾\u000fm����y��bǾ���\u0010�!\u001c",
      "\u000e���$�Ǯ���C�\u0007�F\u0006�����p�\u000f��5��1��1�P<�{�\u0010$�\u001a�/$�P�\f",
      "s�v��P\u001e",
      "gH?�����Q�~�*�:l��ˇ�m�ǰ��C�l����܊\u0017��E��\u001e",
      "���\u000f!�^�y��\u001am�$�Ý���wۡل׼�6w���ī�K�~؞���r��\u0010~\u001b\u001e",
      "?�ˡkO�;6IH�9{ԡ���\u0000]?�E�E�\u0012�~���.l������+��\u001c",
      "W�\u000e\u0002_�\u000e��\u0002\u0002��C��S�|�~\u0005C��N�3ӛB`8�ޚ\b\u0001j9���AZ�\u0004�\u00110�d�l^�\u000e�����SY\u0012\t�Ƨ��>\u000b",
      "q�ۇ&\n",
      "����.�����0���\u0015�;\u0000��>a8�$\f",
      "w�p��p����ST���\u000b",
      ".\u0000�7��@�\u0012���)�\u0013�&1�|���\u0002\u0004WՃ jOv�G2b�L8I��N�@\u0001\u001e",
      "gǍ�\u0004����\u0019�O�C��������IN@@���\u0002��\u0013}�8��+L����a�\u0005&ү\b�o\u0005\u0013�V(\u0019���0\f",
      "���+5\u001b�\n",
      "S\u001d",
      "fS&��<�2���\u001e",
      "��>l�V��&��=4⇤\u0019=\u001a�W��<�J\u0013Mo�\u001c",
      "���\"����d�C����[vY�|K\u001c",
      "{_ܔ\\��\u0017��%\u0001H�/@'�QA�+D�l��c��L�G�.��\t�̎�V�:f>���Aw\u0010K���o$`D\u0007��\u000b",
      "bE45�\u000b",
      "0\b�\u0015%th6h��\u0005���>*�2vQd\u0010\u0015�+M��Y}�Q���u�[���N�o'b\u0010��/u�.r'Z�\u0017��J�\u0019e8�v\u0013\u000b",
      "��;�\u001d",
      "�{T�\t\f",
      "�����^8�\u0014 \u001a\u0018 l<�E�<���b�����C8\f",
      "j��f��xB>\u0001K\u0010���\u0019��|\u001f\u0004w��f�|?�\u0001s̭\u0018��Y�'�Ip&�\"�\u000b",
      "A���f�?�\b!IYi���U�\"��y;�\u0007��#�\u000b",
      "\u000f�e3)�+B�&���\u001d",
      "�<\bE9I�g�/]\"D��yfC;e����Y^�z ��s'�)/�X�-HY��<ˬ�ݰ\n"
     ]
    }
   ],
   "source": [
    "#information_extraction_pdf = 'https://github.com/KnowledgeLab/content_analysis/raw/data/21.pdf'\n",
    "\n",
    "infoExtractionRequest = requests.get(information_extraction_pdf, stream=True)\n",
    "print(infoExtractionRequest.text[:1000])"
   ]
  },
  {
   "cell_type": "markdown",
   "metadata": {
    "id": "pZcS8uBlOmbJ"
   },
   "source": [
    "It says `'pdf'`, so thats a good sign. The rest though looks like we are having\n",
    "issues with an encoding. The random characters are not caused by our encoding\n",
    "being wrong, however. They are cause by there not being an encoding for those\n",
    "parts at all. PDFs are nominally binary files, meaning there are sections of\n",
    "binary that are specific to pdf and nothing else so you need something that\n",
    "knows about pdf to read them. To do that we will be using\n",
    "[`PyPDF2`](https://github.com/mstamy2/PyPDF2), a PDF processing library for\n",
    "Python 3.\n",
    "\n",
    "\n",
    "Because PDFs are a very complicated file format pdfminer requires a large amount\n",
    "of boilerplate code to extract text, we have written a function that takes in an\n",
    "open PDF file and returns the text so you don't have to."
   ]
  },
  {
   "cell_type": "code",
   "execution_count": 260,
   "metadata": {
    "id": "G-NK0_u0OmbK"
   },
   "outputs": [],
   "source": [
    "def readPDF(pdfFile):\n",
    "    #Based on code from http://stackoverflow.com/a/20905381/4955164\n",
    "    #Using utf-8, if there are a bunch of random symbols try changing this\n",
    "    codec = 'utf-8'\n",
    "    rsrcmgr = pdfminer.pdfinterp.PDFResourceManager()\n",
    "    retstr = io.StringIO()\n",
    "    layoutParams = pdfminer.layout.LAParams()\n",
    "    device = pdfminer.converter.TextConverter(rsrcmgr, retstr, laparams = layoutParams, codec = codec)\n",
    "    #We need a device and an interpreter\n",
    "    interpreter = pdfminer.pdfinterp.PDFPageInterpreter(rsrcmgr, device)\n",
    "    password = ''\n",
    "    maxpages = 0\n",
    "    caching = True\n",
    "    pagenos=set()\n",
    "    for page in pdfminer.pdfpage.PDFPage.get_pages(pdfFile, pagenos, maxpages=maxpages, password=password,caching=caching, check_extractable=True):\n",
    "        interpreter.process_page(page)\n",
    "    device.close()\n",
    "    returnedString = retstr.getvalue()\n",
    "    retstr.close()\n",
    "    return returnedString"
   ]
  },
  {
   "cell_type": "markdown",
   "metadata": {
    "id": "4z-HjO90OmbK"
   },
   "source": [
    "First we need to take the response object and convert it into a 'file like'\n",
    "object so that pdfminer can read it. To do this we will use `io`'s `BytesIO`."
   ]
  },
  {
   "cell_type": "code",
   "execution_count": 261,
   "metadata": {
    "id": "sM0uY2utOmbK"
   },
   "outputs": [],
   "source": [
    "infoExtractionBytes = io.BytesIO(infoExtractionRequest.content)"
   ]
  },
  {
   "cell_type": "markdown",
   "metadata": {
    "id": "stf5WQdeOmbK"
   },
   "source": [
    "Now we can give it to pdfminer."
   ]
  },
  {
   "cell_type": "code",
   "execution_count": 262,
   "metadata": {
    "id": "iuUIzn_UOmbK"
   },
   "outputs": [
    {
     "name": "stdout",
     "output_type": "stream",
     "text": [
      "Department of  Sociology \n",
      "\n",
      "THE UNIVERSITY OF CHICAGO \n",
      "\n",
      "SOCIOLOGY 40133 \n",
      "\n",
      "Computational Content Analysis \n",
      "\n",
      "Friday 1:00 – 3:50pm \n",
      "Winter 2017-2018 \n",
      "Classroom: Harper Memorial 130       \n",
      "http://chalk.uchicago.edu/ \n",
      "\n",
      " \n",
      "\n",
      "                                                                                           \n",
      "\n",
      "          Office: McGiffert 210 \n",
      "                                                    Tel.: 834-3612; jevans@uchicago.edu \n",
      "                                  Office Hours: Thursday 12:30-2:30pm \n",
      "\n",
      "     \n",
      "\n",
      "        James A. Evans            \n",
      "\n",
      "    \n"
     ]
    }
   ],
   "source": [
    "print(readPDF(infoExtractionBytes)[:550])"
   ]
  },
  {
   "cell_type": "markdown",
   "metadata": {
    "id": "-AldBWnAOmbK"
   },
   "source": [
    "From here we can either look at the full text or fiddle with our PDF reader and\n",
    "get more information about individual blocks of text.\n",
    "\n",
    "## Word Docs\n",
    "\n",
    "The other type of document you are likely to encounter is the `.docx`, these are\n",
    "actually a version of [XML](https://en.wikipedia.org/wiki/Office_Open_XML), just\n",
    "like HTML, and like HTML we will use a specialized parser.\n",
    "\n",
    "For this class we will use [`python-docx`](https://python-\n",
    "docx.readthedocs.io/en/latest/) which provides a nice simple interface for\n",
    "reading `.docx` files"
   ]
  },
  {
   "cell_type": "code",
   "execution_count": null,
   "metadata": {
    "id": "HZwVUc8POmbK"
   },
   "outputs": [],
   "source": [
    "#example_docx = 'https://github.com/KnowledgeLab/content_analysis/raw/data/example_doc.docx'\n",
    "\n",
    "r = requests.get(example_docx, stream=True)\n",
    "d = docx.Document(io.BytesIO(r.content))\n",
    "for paragraph in d.paragraphs[:7]:\n",
    "    print(paragraph.text)"
   ]
  },
  {
   "cell_type": "markdown",
   "metadata": {
    "id": "Zo8XdsmpOmbL"
   },
   "source": [
    "This procedure uses the `io.BytesIO` class again, since `docx.Document` expects\n",
    "a file. Another way to do it is to save the document to a file and then read it\n",
    "like any other file. If we do this we can either delete the file afterwords, or\n",
    "save it and avoid downloading the following time.\n",
    "\n",
    "This function is useful as a part of many different tasks so it and others like it will be added to the helper package `lucem_illud` so we can use it later without having to retype it."
   ]
  },
  {
   "cell_type": "code",
   "execution_count": null,
   "metadata": {
    "id": "H0LzxTw-OmbL"
   },
   "outputs": [],
   "source": [
    "def downloadIfNeeded(targetURL, outputFile, **openkwargs):\n",
    "    if not os.path.isfile(outputFile):\n",
    "        outputDir = os.path.dirname(outputFile)\n",
    "        #This function is a more general os.mkdir()\n",
    "        if len(outputDir) > 0:\n",
    "            os.makedirs(outputDir, exist_ok = True)\n",
    "        r = requests.get(targetURL, stream=True)\n",
    "        #Using a closure like this is generally better than having to\n",
    "        #remember to close the file. There are ways to make this function\n",
    "        #work as a closure too\n",
    "        with open(outputFile, 'wb') as f:\n",
    "            f.write(r.content)\n",
    "    return open(outputFile, **openkwargs)"
   ]
  },
  {
   "cell_type": "markdown",
   "metadata": {
    "id": "BTtnnzAyOmbL"
   },
   "source": [
    "This function will download, save and open `outputFile` as `outputFile` or just\n",
    "open it if `outputFile` exists. By default `open()` will open the file as read\n",
    "only text with the local encoding, which may cause issues if its not a text\n",
    "file."
   ]
  },
  {
   "cell_type": "code",
   "execution_count": null,
   "metadata": {
    "id": "l4F3q0wpOmbL"
   },
   "outputs": [],
   "source": [
    "try:\n",
    "    d = docx.Document(downloadIfNeeded(example_docx, example_docx_save))\n",
    "except Exception as e:\n",
    "    print(e)"
   ]
  },
  {
   "cell_type": "markdown",
   "metadata": {
    "id": "8jy-hEavOmbL"
   },
   "source": [
    "We need to tell `open()` to read in binary mode (`'rb'`), this is why we added\n",
    "`**openkwargs`, this allows us to pass any keyword arguments (kwargs) from\n",
    "`downloadIfNeeded` to `open()`."
   ]
  },
  {
   "cell_type": "code",
   "execution_count": null,
   "metadata": {
    "id": "V9An1Z_QOmbL"
   },
   "outputs": [],
   "source": [
    "d = docx.Document(downloadIfNeeded(example_docx, example_docx_save, mode = 'rb'))\n",
    "for paragraph in d.paragraphs[:7]:\n",
    "    print(paragraph.text)"
   ]
  },
  {
   "cell_type": "markdown",
   "metadata": {
    "id": "AECbTJunOmbL"
   },
   "source": [
    "Now we can read the file with `docx.Document` and not have to wait for it to be\n",
    "downloaded every time."
   ]
  },
  {
   "cell_type": "markdown",
   "metadata": {
    "id": "V_d35FzzOmbM"
   },
   "source": [
    "\n",
    "# <font color=\"red\">Exercise 3</font>\n",
    "<font color=\"red\">Construct cells immediately below this that extract and organize textual content from text, PDF or Word into a pandas dataframe.</font>\n"
   ]
  },
  {
   "cell_type": "markdown",
   "metadata": {},
   "source": [
    "I did two tasks here: organize the paragraphs in mid summer dream, and organize paragraphs from three different txt files."
   ]
  },
  {
   "cell_type": "code",
   "execution_count": 415,
   "metadata": {},
   "outputs": [],
   "source": [
    "with open('a_midsummer_nights_dream.txt') as f:\n",
    "    midsummer = f.read().splitlines()"
   ]
  },
  {
   "cell_type": "code",
   "execution_count": 416,
   "metadata": {},
   "outputs": [
    {
     "name": "stdout",
     "output_type": "stream",
     "text": [
      "A Midsummer Night's Dream\n",
      "by William Shakespeare\n",
      "Edited by Barbara A. Mowat and Paul Werstine\n",
      "  with Michael Poston and Rebecca Niles\n",
      "Folger Shakespeare Library\n",
      "https://shakespeare.folger.edu/shakespeares-works/a-midsummer-nights-dream/\n",
      "Created on Jul 31, 2015, from FDT version 0.9.2\n",
      "\n",
      "Characters in the Play\n",
      "======================\n",
      "Four lovers:\n",
      "  HERMIA\n",
      "  LYSANDER\n",
      "  HELENA\n",
      "  DEMETRIUS\n",
      "THESEUS, duke of Athens\n",
      "HIPPOLYTA, queen of the Amazons\n",
      "EGEUS, father to Hermia\n",
      "PHILOSTRATE, master of the revels to Theseus\n",
      "NICK BOTTOM, weaver\n",
      "PETER QUINCE, carpenter\n",
      "FRANCIS FLUTE, bellows-mender\n",
      "TOM SNOUT, tinker\n",
      "SNUG, joiner\n",
      "ROBIN STARVELING, tailor\n",
      "OBERON, king of the Fairies\n",
      "TITANIA, queen of the Fairies\n",
      "ROBIN GOODFELLOW, a \"puck,\" or hobgoblin, in Oberon's service\n",
      "A FAIRY, in the service of Titania\n",
      "Fairies attending upon Titania:\n",
      "  PEASEBLOSSOM\n",
      "  COBWEB\n",
      "  MOTE\n",
      "  MUSTARDSEED\n",
      "Lords and Attendants on Theseus and Hippolyta\n",
      "Other Fairies in the trains of Titania and Oberon\n",
      "\n",
      "\n",
      "ACT 1\n",
      "=====\n",
      "\n",
      "Scene 1\n",
      "=======\n",
      "[Enter Theseus, Hippolyta, and Philostrate, with others.]\n",
      "\n",
      "\n",
      "THESEUS\n",
      "Now, fair Hippolyta, our nuptial hour\n",
      "Draws on apace. Four happy days bring in\n",
      "Another moon. But, O, methinks how slow\n"
     ]
    }
   ],
   "source": [
    "# check how the file looks like\n",
    "for line in midsummer[:50]:\n",
    "    print (line)"
   ]
  },
  {
   "cell_type": "code",
   "execution_count": 417,
   "metadata": {},
   "outputs": [
    {
     "name": "stdout",
     "output_type": "stream",
     "text": [
      "{38: 'ACT 1', 41: 'Scene 1', 409: 'Scene 2', 568: 'ACT 2', 571: 'Scene 1', 941: 'Scene 2', 1186: 'ACT 3', 1189: 'Scene 1', 1506: 'Scene 2', 2263: 'ACT 4', 2266: 'Scene 1', 2607: 'Scene 2', 2679: 'ACT 5', 2682: 'Scene 1'}\n"
     ]
    }
   ],
   "source": [
    "act_scene = {}\n",
    "# get the indices of ACTs and Scenes\n",
    "for index in range(len(midsummer)):\n",
    "    if midsummer[index].startswith('ACT'):\n",
    "        act_scene[index] = midsummer[index]\n",
    "    if midsummer[index].startswith('Scene'):\n",
    "        act_scene[index] = midsummer[index]\n",
    "    \n",
    "print(act_scene)"
   ]
  },
  {
   "cell_type": "code",
   "execution_count": 418,
   "metadata": {},
   "outputs": [],
   "source": [
    "ACTs = []\n",
    "Scene = []\n",
    "Lines = []\n",
    "# extract and classify lines by their ACTs and Scenes\n",
    "for i in midsummer[43:409]:\n",
    "    if i != '':\n",
    "        Lines.append(re.sub(r'\\t', '', i))\n",
    "        ACTs.append('ACT 1')\n",
    "        Scene.append('Scene 1')\n",
    "\n",
    "for i in midsummer[411:568]:\n",
    "    if i != '':\n",
    "        Lines.append(re.sub(r'\\t', '', i))\n",
    "        ACTs.append('ACT 1')\n",
    "        Scene.append('Scene 2')\n",
    "    \n",
    "for i in midsummer[573:941]:\n",
    "    if i != '':\n",
    "        Lines.append(re.sub(r'\\t', '', i))\n",
    "        ACTs.append('ACT 2')\n",
    "        Scene.append('Scene 1')\n",
    "\n",
    "for i in midsummer[943:1186]:\n",
    "    if i != '':\n",
    "        Lines.append(re.sub(r'\\t', '', i))\n",
    "        ACTs.append('ACT 2')\n",
    "        Scene.append('Scene 2')\n",
    "\n",
    "for i in midsummer[1191:1506]:\n",
    "    if i != '':\n",
    "        Lines.append(re.sub(r'\\t', '', i))\n",
    "        ACTs.append('ACT 3')\n",
    "        Scene.append('Scene 1')\n",
    "    \n",
    "for i in midsummer[1508:2263]:\n",
    "    if i != '':\n",
    "        Lines.append(re.sub(r'\\t', '', i))\n",
    "        ACTs.append('ACT 3')\n",
    "        Scene.append('Scene 2')\n",
    "    \n",
    "for i in midsummer[2268:2607]:\n",
    "    if i != '':\n",
    "        Lines.append(re.sub(r'\\t', '', i))\n",
    "        ACTs.append('ACT 4')\n",
    "        Scene.append('Scene 1')\n",
    "    \n",
    "for i in midsummer[2609:2679]:\n",
    "    if i != '':\n",
    "        Lines.append(re.sub(r'\\t', '', i))\n",
    "        ACTs.append('ACT 4')\n",
    "        Scene.append('Scene 2')\n",
    "    \n",
    "for i in midsummer[2684:]:\n",
    "    if i != '':\n",
    "        Lines.append(re.sub(r'\\t', '', i))\n",
    "        ACTs.append('ACT 5')\n",
    "        Scene.append('Scene 1')\n"
   ]
  },
  {
   "cell_type": "markdown",
   "metadata": {},
   "source": [
    "It's a naive way, and there is a smarter way. But it does the job."
   ]
  },
  {
   "cell_type": "code",
   "execution_count": 419,
   "metadata": {},
   "outputs": [],
   "source": [
    "midsummerDF = pandas.DataFrame(list(zip(ACTs, Scene, Lines)), columns = ['acts', 'scenes', 'lines'])"
   ]
  },
  {
   "cell_type": "code",
   "execution_count": 420,
   "metadata": {},
   "outputs": [
    {
     "data": {
      "text/html": [
       "<div>\n",
       "<style scoped>\n",
       "    .dataframe tbody tr th:only-of-type {\n",
       "        vertical-align: middle;\n",
       "    }\n",
       "\n",
       "    .dataframe tbody tr th {\n",
       "        vertical-align: top;\n",
       "    }\n",
       "\n",
       "    .dataframe thead th {\n",
       "        text-align: right;\n",
       "    }\n",
       "</style>\n",
       "<table border=\"1\" class=\"dataframe\">\n",
       "  <thead>\n",
       "    <tr style=\"text-align: right;\">\n",
       "      <th></th>\n",
       "      <th>acts</th>\n",
       "      <th>scenes</th>\n",
       "      <th>lines</th>\n",
       "    </tr>\n",
       "  </thead>\n",
       "  <tbody>\n",
       "    <tr>\n",
       "      <th>0</th>\n",
       "      <td>ACT 1</td>\n",
       "      <td>Scene 1</td>\n",
       "      <td>[Enter Theseus, Hippolyta, and Philostrate, wi...</td>\n",
       "    </tr>\n",
       "    <tr>\n",
       "      <th>1</th>\n",
       "      <td>ACT 1</td>\n",
       "      <td>Scene 1</td>\n",
       "      <td>THESEUS</td>\n",
       "    </tr>\n",
       "    <tr>\n",
       "      <th>2</th>\n",
       "      <td>ACT 1</td>\n",
       "      <td>Scene 1</td>\n",
       "      <td>Now, fair Hippolyta, our nuptial hour</td>\n",
       "    </tr>\n",
       "    <tr>\n",
       "      <th>3</th>\n",
       "      <td>ACT 1</td>\n",
       "      <td>Scene 1</td>\n",
       "      <td>Draws on apace. Four happy days bring in</td>\n",
       "    </tr>\n",
       "    <tr>\n",
       "      <th>4</th>\n",
       "      <td>ACT 1</td>\n",
       "      <td>Scene 1</td>\n",
       "      <td>Another moon. But, O, methinks how slow</td>\n",
       "    </tr>\n",
       "    <tr>\n",
       "      <th>...</th>\n",
       "      <td>...</td>\n",
       "      <td>...</td>\n",
       "      <td>...</td>\n",
       "    </tr>\n",
       "    <tr>\n",
       "      <th>2654</th>\n",
       "      <td>ACT 5</td>\n",
       "      <td>Scene 1</td>\n",
       "      <td>Else the Puck a liar call.</td>\n",
       "    </tr>\n",
       "    <tr>\n",
       "      <th>2655</th>\n",
       "      <td>ACT 5</td>\n",
       "      <td>Scene 1</td>\n",
       "      <td>So good night unto you all.</td>\n",
       "    </tr>\n",
       "    <tr>\n",
       "      <th>2656</th>\n",
       "      <td>ACT 5</td>\n",
       "      <td>Scene 1</td>\n",
       "      <td>Give me your hands, if we be friends,</td>\n",
       "    </tr>\n",
       "    <tr>\n",
       "      <th>2657</th>\n",
       "      <td>ACT 5</td>\n",
       "      <td>Scene 1</td>\n",
       "      <td>And Robin shall restore amends.</td>\n",
       "    </tr>\n",
       "    <tr>\n",
       "      <th>2658</th>\n",
       "      <td>ACT 5</td>\n",
       "      <td>Scene 1</td>\n",
       "      <td>[He exits.]</td>\n",
       "    </tr>\n",
       "  </tbody>\n",
       "</table>\n",
       "<p>2659 rows × 3 columns</p>\n",
       "</div>"
      ],
      "text/plain": [
       "       acts   scenes                                              lines\n",
       "0     ACT 1  Scene 1  [Enter Theseus, Hippolyta, and Philostrate, wi...\n",
       "1     ACT 1  Scene 1                                            THESEUS\n",
       "2     ACT 1  Scene 1              Now, fair Hippolyta, our nuptial hour\n",
       "3     ACT 1  Scene 1           Draws on apace. Four happy days bring in\n",
       "4     ACT 1  Scene 1            Another moon. But, O, methinks how slow\n",
       "...     ...      ...                                                ...\n",
       "2654  ACT 5  Scene 1                         Else the Puck a liar call.\n",
       "2655  ACT 5  Scene 1                        So good night unto you all.\n",
       "2656  ACT 5  Scene 1              Give me your hands, if we be friends,\n",
       "2657  ACT 5  Scene 1                    And Robin shall restore amends.\n",
       "2658  ACT 5  Scene 1                                        [He exits.]\n",
       "\n",
       "[2659 rows x 3 columns]"
      ]
     },
     "execution_count": 420,
     "metadata": {},
     "output_type": "execute_result"
    }
   ],
   "source": [
    "midsummerDF"
   ]
  },
  {
   "cell_type": "code",
   "execution_count": 421,
   "metadata": {},
   "outputs": [
    {
     "data": {
      "text/html": [
       "<div>\n",
       "<style scoped>\n",
       "    .dataframe tbody tr th:only-of-type {\n",
       "        vertical-align: middle;\n",
       "    }\n",
       "\n",
       "    .dataframe tbody tr th {\n",
       "        vertical-align: top;\n",
       "    }\n",
       "\n",
       "    .dataframe thead th {\n",
       "        text-align: right;\n",
       "    }\n",
       "</style>\n",
       "<table border=\"1\" class=\"dataframe\">\n",
       "  <thead>\n",
       "    <tr style=\"text-align: right;\">\n",
       "      <th></th>\n",
       "      <th>file</th>\n",
       "      <th>text_line</th>\n",
       "      <th>paragraph_number</th>\n",
       "    </tr>\n",
       "  </thead>\n",
       "  <tbody>\n",
       "    <tr>\n",
       "      <th>0</th>\n",
       "      <td>a_midsummer_nights_dream.txt</td>\n",
       "      <td>A Midsummer Night's Dream</td>\n",
       "      <td>1</td>\n",
       "    </tr>\n",
       "    <tr>\n",
       "      <th>1</th>\n",
       "      <td>a_midsummer_nights_dream.txt</td>\n",
       "      <td>by William Shakespeare</td>\n",
       "      <td>2</td>\n",
       "    </tr>\n",
       "    <tr>\n",
       "      <th>2</th>\n",
       "      <td>a_midsummer_nights_dream.txt</td>\n",
       "      <td>Edited by Barbara A. Mowat and Paul Werstine</td>\n",
       "      <td>3</td>\n",
       "    </tr>\n",
       "    <tr>\n",
       "      <th>3</th>\n",
       "      <td>a_midsummer_nights_dream.txt</td>\n",
       "      <td>with Michael Poston and Rebecca Niles</td>\n",
       "      <td>4</td>\n",
       "    </tr>\n",
       "    <tr>\n",
       "      <th>4</th>\n",
       "      <td>a_midsummer_nights_dream.txt</td>\n",
       "      <td>Folger Shakespeare Library</td>\n",
       "      <td>5</td>\n",
       "    </tr>\n",
       "    <tr>\n",
       "      <th>...</th>\n",
       "      <td>...</td>\n",
       "      <td>...</td>\n",
       "      <td>...</td>\n",
       "    </tr>\n",
       "    <tr>\n",
       "      <th>12658</th>\n",
       "      <td>romeo_and_juliet.txt</td>\n",
       "      <td></td>\n",
       "      <td>4859</td>\n",
       "    </tr>\n",
       "    <tr>\n",
       "      <th>12659</th>\n",
       "      <td>romeo_and_juliet.txt</td>\n",
       "      <td>This Web site includes information about Proje...</td>\n",
       "      <td>4860</td>\n",
       "    </tr>\n",
       "    <tr>\n",
       "      <th>12660</th>\n",
       "      <td>romeo_and_juliet.txt</td>\n",
       "      <td>including how to make donations to the Project...</td>\n",
       "      <td>4861</td>\n",
       "    </tr>\n",
       "    <tr>\n",
       "      <th>12661</th>\n",
       "      <td>romeo_and_juliet.txt</td>\n",
       "      <td>Archive Foundation, how to help produce our ne...</td>\n",
       "      <td>4862</td>\n",
       "    </tr>\n",
       "    <tr>\n",
       "      <th>12662</th>\n",
       "      <td>romeo_and_juliet.txt</td>\n",
       "      <td>subscribe to our email newsletter to hear abou...</td>\n",
       "      <td>4863</td>\n",
       "    </tr>\n",
       "  </tbody>\n",
       "</table>\n",
       "<p>12663 rows × 3 columns</p>\n",
       "</div>"
      ],
      "text/plain": [
       "                               file  \\\n",
       "0      a_midsummer_nights_dream.txt   \n",
       "1      a_midsummer_nights_dream.txt   \n",
       "2      a_midsummer_nights_dream.txt   \n",
       "3      a_midsummer_nights_dream.txt   \n",
       "4      a_midsummer_nights_dream.txt   \n",
       "...                             ...   \n",
       "12658          romeo_and_juliet.txt   \n",
       "12659          romeo_and_juliet.txt   \n",
       "12660          romeo_and_juliet.txt   \n",
       "12661          romeo_and_juliet.txt   \n",
       "12662          romeo_and_juliet.txt   \n",
       "\n",
       "                                               text_line  paragraph_number  \n",
       "0                              A Midsummer Night's Dream                 1  \n",
       "1                                 by William Shakespeare                 2  \n",
       "2           Edited by Barbara A. Mowat and Paul Werstine                 3  \n",
       "3                  with Michael Poston and Rebecca Niles                 4  \n",
       "4                             Folger Shakespeare Library                 5  \n",
       "...                                                  ...               ...  \n",
       "12658                                                                 4859  \n",
       "12659  This Web site includes information about Proje...              4860  \n",
       "12660  including how to make donations to the Project...              4861  \n",
       "12661  Archive Foundation, how to help produce our ne...              4862  \n",
       "12662  subscribe to our email newsletter to hear abou...              4863  \n",
       "\n",
       "[12663 rows x 3 columns]"
      ]
     },
     "execution_count": 421,
     "metadata": {},
     "output_type": "execute_result"
    }
   ],
   "source": [
    "lines = []\n",
    "# iterate through the txt files\n",
    "for file in filter(lambda x: x[-4:] == '.txt', os.listdir()):\n",
    "    para_num = 1\n",
    "    with open(file, encoding=\"utf-8\") as f:\n",
    "        # read through lines\n",
    "        line = f.readline()\n",
    "        while line:\n",
    "            lines.append([file, line.strip(), para_num])\n",
    "            para_num += 1\n",
    "            line = f.readline()\n",
    "\n",
    "result = pandas.DataFrame(lines, columns=['file', 'text_line', 'paragraph_number'])\n",
    "result"
   ]
  },
  {
   "cell_type": "markdown",
   "metadata": {
    "id": "d1TZsRUixXxh"
   },
   "source": [
    "# <font color=\"red\">Exercise 4</font>\n",
    "<font color=\"red\">In the two cells immediately following, describe a possible project (e.g., it might end up being your final project, but need not be if you are still searching): __WHAT__ you will analyze--the texts you will select and the social game, world and actors you intend to learn about through your analysis (<100 words); __WHY__ you will analyze these texts to learn about that context--justify the rationale behind your proposed sample design for this project, based on the readings. What is the social game, social work, or social actors about whom you are seeking to make inferences? What are the virtues of your proposed sample with respect to your research questions? What are its limitations? What are alternatives? What would be a reasonable path to \"scale up\" your sample for further analysis (i.e., high-profile publication)? (<150 words)? [__Note__: your individual or collective project will change over the course of the quarter as new data and/or analysis opportunities arise or if old ones fade away.]</font>"
   ]
  },
  {
   "cell_type": "markdown",
   "metadata": {
    "id": "zfLNtcyrxoz2"
   },
   "source": [
    "# What?\n",
    "\n",
    "<100 words"
   ]
  },
  {
   "cell_type": "markdown",
   "metadata": {},
   "source": [
    "I plan to analyze news articles on US news media sites to learn about the sentiment difference in US media's news articles reporting domestic news and foreign news. Here the social actors will be the news media companies, the readers and the ones that are being reported (part of the news). In particular, I want to learn about how news media companies might report news with different sentiment. The social world would be the global community where the news media companies reports and the readers react to the news. The social game would be the news media companies' output of their version of 'fact' to the general public."
   ]
  },
  {
   "cell_type": "markdown",
   "metadata": {
    "id": "viaSJK7jxuKd"
   },
   "source": [
    "# Why?\n",
    "\n",
    "<150 words"
   ]
  },
  {
   "cell_type": "markdown",
   "metadata": {},
   "source": [
    "The assumption is that the US news media companies would report more postively when reporting domestic news, but more negatively when reporting foreign news. The social game, world, and actors are already discussed above. The news articles on the news media companies' sites are the first source of learning how the media want to output the news. However, their sites are not as influential as their social media accounts, e.g. twitter/instagram accounts. Twitter and instagram has more strict word count restriction, and the news are more likely to be seen as the social media is becoming the main media of information. It would also be good if I can scrape similar data from other countries, e.g. China, Japan, or India, and analyze how those countries report news. This would allow me to compare if news media in countries with different politics system (which can affect media) report news to the general public in different ways. "
   ]
  },
  {
   "cell_type": "markdown",
   "metadata": {
    "id": "Bwyfg2yrOmbM"
   },
   "source": [
    "### Sources:\n",
    "\n",
    "Other popular sources for internet data:\n",
    "\n",
    "[reddit](https://www.reddit.com/) - https://praw.readthedocs.io/en/v2.1.21/\n",
    "\n",
    "[twitter](https://twitter.com/) - https://pypi.org/project/python-twitter/\n",
    "\n",
    "[project gutenburg](https://www.gutenberg.org/) - https://github.com/ageitgey/Gutenberg \n",
    "\n"
   ]
  }
 ],
 "metadata": {
  "colab": {
   "collapsed_sections": [
    "vVTLl6J-OmbB",
    "8jW4D33OOmbB",
    "JFgBxV4LOmbD",
    "dXtaSZCkOmbE",
    "CswLIJBZOmbH",
    "V9T2gL7UOmbJ",
    "-AldBWnAOmbK",
    "V_d35FzzOmbM",
    "Bwyfg2yrOmbM"
   ],
   "name": "Copy of 1-Measuring-Meaning-and-Sampling.ipynb",
   "provenance": [
    {
     "file_id": "1pFlv-S5MsJA4GrRyNl9YhqKlJrjvh8BT",
     "timestamp": 1642555006949
    }
   ]
  },
  "kernelspec": {
   "display_name": "Python 3 (ipykernel)",
   "language": "python",
   "name": "python3"
  },
  "language_info": {
   "codemirror_mode": {
    "name": "ipython",
    "version": 3
   },
   "file_extension": ".py",
   "mimetype": "text/x-python",
   "name": "python",
   "nbconvert_exporter": "python",
   "pygments_lexer": "ipython3",
   "version": "3.8.12"
  }
 },
 "nbformat": 4,
 "nbformat_minor": 1
}
